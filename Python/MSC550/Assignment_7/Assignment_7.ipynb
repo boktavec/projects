{
 "cells": [
  {
   "cell_type": "code",
   "execution_count": 27,
   "metadata": {},
   "outputs": [],
   "source": [
    "import numpy as np\n",
    "import pandas as pd\n",
    "import matplotlib.pyplot as plt\n",
    "from sklearn.linear_model import LinearRegression"
   ]
  },
  {
   "cell_type": "code",
   "execution_count": 2,
   "metadata": {},
   "outputs": [],
   "source": [
    "df = pd.read_csv('/Users/brianoktavec/MSC550/Assignment_7/HousePrices.csv')"
   ]
  },
  {
   "cell_type": "code",
   "execution_count": 3,
   "metadata": {},
   "outputs": [
    {
     "data": {
      "text/html": [
       "<div>\n",
       "<style scoped>\n",
       "    .dataframe tbody tr th:only-of-type {\n",
       "        vertical-align: middle;\n",
       "    }\n",
       "\n",
       "    .dataframe tbody tr th {\n",
       "        vertical-align: top;\n",
       "    }\n",
       "\n",
       "    .dataframe thead th {\n",
       "        text-align: right;\n",
       "    }\n",
       "</style>\n",
       "<table border=\"1\" class=\"dataframe\">\n",
       "  <thead>\n",
       "    <tr style=\"text-align: right;\">\n",
       "      <th></th>\n",
       "      <th>Price</th>\n",
       "      <th>SqFt</th>\n",
       "      <th>Bed</th>\n",
       "      <th>Bath</th>\n",
       "      <th>Offers</th>\n",
       "    </tr>\n",
       "  </thead>\n",
       "  <tbody>\n",
       "    <tr>\n",
       "      <th>0</th>\n",
       "      <td>114300</td>\n",
       "      <td>1790</td>\n",
       "      <td>2</td>\n",
       "      <td>2</td>\n",
       "      <td>2.0</td>\n",
       "    </tr>\n",
       "    <tr>\n",
       "      <th>1</th>\n",
       "      <td>114200</td>\n",
       "      <td>2030</td>\n",
       "      <td>4</td>\n",
       "      <td>2</td>\n",
       "      <td>3.0</td>\n",
       "    </tr>\n",
       "    <tr>\n",
       "      <th>2</th>\n",
       "      <td>114800</td>\n",
       "      <td>1740</td>\n",
       "      <td>3</td>\n",
       "      <td>2</td>\n",
       "      <td>1.0</td>\n",
       "    </tr>\n",
       "    <tr>\n",
       "      <th>3</th>\n",
       "      <td>94700</td>\n",
       "      <td>1980</td>\n",
       "      <td>3</td>\n",
       "      <td>2</td>\n",
       "      <td>NaN</td>\n",
       "    </tr>\n",
       "    <tr>\n",
       "      <th>4</th>\n",
       "      <td>119800</td>\n",
       "      <td>2130</td>\n",
       "      <td>3</td>\n",
       "      <td>3</td>\n",
       "      <td>3.0</td>\n",
       "    </tr>\n",
       "  </tbody>\n",
       "</table>\n",
       "</div>"
      ],
      "text/plain": [
       "    Price  SqFt  Bed  Bath  Offers\n",
       "0  114300  1790    2     2     2.0\n",
       "1  114200  2030    4     2     3.0\n",
       "2  114800  1740    3     2     1.0\n",
       "3   94700  1980    3     2     NaN\n",
       "4  119800  2130    3     3     3.0"
      ]
     },
     "execution_count": 3,
     "metadata": {},
     "output_type": "execute_result"
    }
   ],
   "source": [
    "df.head()"
   ]
  },
  {
   "cell_type": "markdown",
   "metadata": {},
   "source": [
    "# #1"
   ]
  },
  {
   "cell_type": "code",
   "execution_count": 10,
   "metadata": {},
   "outputs": [],
   "source": [
    "df_clean = df.dropna()"
   ]
  },
  {
   "cell_type": "code",
   "execution_count": 11,
   "metadata": {},
   "outputs": [
    {
     "data": {
      "text/html": [
       "<div>\n",
       "<style scoped>\n",
       "    .dataframe tbody tr th:only-of-type {\n",
       "        vertical-align: middle;\n",
       "    }\n",
       "\n",
       "    .dataframe tbody tr th {\n",
       "        vertical-align: top;\n",
       "    }\n",
       "\n",
       "    .dataframe thead th {\n",
       "        text-align: right;\n",
       "    }\n",
       "</style>\n",
       "<table border=\"1\" class=\"dataframe\">\n",
       "  <thead>\n",
       "    <tr style=\"text-align: right;\">\n",
       "      <th></th>\n",
       "      <th>Price</th>\n",
       "      <th>SqFt</th>\n",
       "      <th>Bed</th>\n",
       "      <th>Bath</th>\n",
       "      <th>Offers</th>\n",
       "    </tr>\n",
       "  </thead>\n",
       "  <tbody>\n",
       "    <tr>\n",
       "      <th>0</th>\n",
       "      <td>114300</td>\n",
       "      <td>1790</td>\n",
       "      <td>2</td>\n",
       "      <td>2</td>\n",
       "      <td>2.0</td>\n",
       "    </tr>\n",
       "    <tr>\n",
       "      <th>1</th>\n",
       "      <td>114200</td>\n",
       "      <td>2030</td>\n",
       "      <td>4</td>\n",
       "      <td>2</td>\n",
       "      <td>3.0</td>\n",
       "    </tr>\n",
       "    <tr>\n",
       "      <th>2</th>\n",
       "      <td>114800</td>\n",
       "      <td>1740</td>\n",
       "      <td>3</td>\n",
       "      <td>2</td>\n",
       "      <td>1.0</td>\n",
       "    </tr>\n",
       "    <tr>\n",
       "      <th>4</th>\n",
       "      <td>119800</td>\n",
       "      <td>2130</td>\n",
       "      <td>3</td>\n",
       "      <td>3</td>\n",
       "      <td>3.0</td>\n",
       "    </tr>\n",
       "    <tr>\n",
       "      <th>5</th>\n",
       "      <td>114600</td>\n",
       "      <td>1780</td>\n",
       "      <td>3</td>\n",
       "      <td>2</td>\n",
       "      <td>2.0</td>\n",
       "    </tr>\n",
       "  </tbody>\n",
       "</table>\n",
       "</div>"
      ],
      "text/plain": [
       "    Price  SqFt  Bed  Bath  Offers\n",
       "0  114300  1790    2     2     2.0\n",
       "1  114200  2030    4     2     3.0\n",
       "2  114800  1740    3     2     1.0\n",
       "4  119800  2130    3     3     3.0\n",
       "5  114600  1780    3     2     2.0"
      ]
     },
     "execution_count": 11,
     "metadata": {},
     "output_type": "execute_result"
    }
   ],
   "source": [
    "df_clean.head()"
   ]
  },
  {
   "cell_type": "code",
   "execution_count": 14,
   "metadata": {
    "collapsed": true
   },
   "outputs": [
    {
     "name": "stdout",
     "output_type": "stream",
     "text": [
      "                                 OLS Regression Results                                \n",
      "=======================================================================================\n",
      "Dep. Variable:                  Price   R-squared (uncentered):                   0.989\n",
      "Model:                            OLS   Adj. R-squared (uncentered):              0.988\n",
      "Method:                 Least Squares   F-statistic:                              2302.\n",
      "Date:                Sat, 01 Apr 2023   Prob (F-statistic):                   8.91e-103\n",
      "Time:                        11:23:38   Log-Likelihood:                         -1220.5\n",
      "No. Observations:                 111   AIC:                                      2449.\n",
      "Df Residuals:                     107   BIC:                                      2460.\n",
      "Df Model:                           4                                                  \n",
      "Covariance Type:            nonrobust                                                  \n",
      "==============================================================================\n",
      "                 coef    std err          t      P>|t|      [0.025      0.975]\n",
      "------------------------------------------------------------------------------\n",
      "SqFt          52.8207      5.107     10.344      0.000      42.698      62.944\n",
      "Bed         9586.3688   2266.922      4.229      0.000    5092.461    1.41e+04\n",
      "Bath        1.249e+04   3282.890      3.805      0.000    5984.391     1.9e+04\n",
      "Offers     -1.342e+04   1504.576     -8.922      0.000   -1.64e+04   -1.04e+04\n",
      "==============================================================================\n",
      "Omnibus:                        2.501   Durbin-Watson:                   1.922\n",
      "Prob(Omnibus):                  0.286   Jarque-Bera (JB):                2.527\n",
      "Skew:                           0.336   Prob(JB):                        0.283\n",
      "Kurtosis:                       2.694   Cond. No.                     4.80e+03\n",
      "==============================================================================\n",
      "\n",
      "Notes:\n",
      "[1] R² is computed without centering (uncentered) since the model does not contain a constant.\n",
      "[2] Standard Errors assume that the covariance matrix of the errors is correctly specified.\n",
      "[3] The condition number is large, 4.8e+03. This might indicate that there are\n",
      "strong multicollinearity or other numerical problems.\n"
     ]
    }
   ],
   "source": [
    "X = df_clean[['SqFt', 'Bed', 'Bath', 'Offers']]\n",
    "X = pd.get_dummies(X, drop_first=True)\n",
    "y = df_clean['Price']\n",
    "\n",
    "\n",
    "import statsmodels.api as sm\n",
    "ols = sm.OLS(y, X)\n",
    "lm = ols.fit()\n",
    "print(lm.summary())"
   ]
  },
  {
   "cell_type": "markdown",
   "metadata": {},
   "source": [
    "# #2"
   ]
  },
  {
   "cell_type": "code",
   "execution_count": 15,
   "metadata": {},
   "outputs": [],
   "source": [
    "df['Offers'].fillna(df['Offers'].mean(), inplace=True)"
   ]
  },
  {
   "cell_type": "code",
   "execution_count": 19,
   "metadata": {},
   "outputs": [
    {
     "name": "stdout",
     "output_type": "stream",
     "text": [
      "                            OLS Regression Results                            \n",
      "==============================================================================\n",
      "Dep. Variable:                  Price   R-squared:                       0.636\n",
      "Model:                            OLS   Adj. R-squared:                  0.625\n",
      "Method:                 Least Squares   F-statistic:                     53.84\n",
      "Date:                Sat, 01 Apr 2023   Prob (F-statistic):           3.76e-26\n",
      "Time:                        11:30:03   Log-Likelihood:                -1421.8\n",
      "No. Observations:                 128   AIC:                             2854.\n",
      "Df Residuals:                     123   BIC:                             2868.\n",
      "Df Model:                           4                                         \n",
      "Covariance Type:            nonrobust                                         \n",
      "==============================================================================\n",
      "                 coef    std err          t      P>|t|      [0.025      0.975]\n",
      "------------------------------------------------------------------------------\n",
      "const      -1.175e+04   1.39e+04     -0.844      0.400   -3.93e+04    1.58e+04\n",
      "SqFt          54.3202      8.924      6.087      0.000      36.655      71.985\n",
      "Bed         8737.1678   2364.436      3.695      0.000    4056.912    1.34e+04\n",
      "Bath        1.643e+04   3429.648      4.792      0.000    9646.017    2.32e+04\n",
      "Offers     -1.372e+04   1680.276     -8.163      0.000    -1.7e+04   -1.04e+04\n",
      "==============================================================================\n",
      "Omnibus:                        0.605   Durbin-Watson:                   1.921\n",
      "Prob(Omnibus):                  0.739   Jarque-Bera (JB):                0.746\n",
      "Skew:                           0.119   Prob(JB):                        0.689\n",
      "Kurtosis:                       2.711   Cond. No.                     1.93e+04\n",
      "==============================================================================\n",
      "\n",
      "Notes:\n",
      "[1] Standard Errors assume that the covariance matrix of the errors is correctly specified.\n",
      "[2] The condition number is large, 1.93e+04. This might indicate that there are\n",
      "strong multicollinearity or other numerical problems.\n"
     ]
    }
   ],
   "source": [
    "ols = sm.OLS(df['Price'], sm.add_constant(df.iloc[:, 1:5]))\n",
    "lm1 = ols.fit()\n",
    "print(lm1.summary())"
   ]
  },
  {
   "cell_type": "markdown",
   "metadata": {},
   "source": [
    "# #3"
   ]
  },
  {
   "cell_type": "code",
   "execution_count": 20,
   "metadata": {},
   "outputs": [],
   "source": [
    "complete_cases = df.dropna()"
   ]
  },
  {
   "cell_type": "code",
   "execution_count": 22,
   "metadata": {},
   "outputs": [],
   "source": [
    "X = complete_cases[[\"SqFt\", \"Bed\", \"Bath\"]]\n",
    "y = complete_cases[\"Offers\"]\n",
    "model = sm.OLS(y, sm.add_constant(X)).fit()"
   ]
  },
  {
   "cell_type": "code",
   "execution_count": 23,
   "metadata": {},
   "outputs": [],
   "source": [
    "incomplete_cases = df[df[\"Offers\"].isnull()]\n",
    "X_missing = incomplete_cases[[\"SqFt\", \"Bed\", \"Bath\"]]\n",
    "y_missing = model.predict(sm.add_constant(X_missing))\n",
    "df.loc[df[\"Offers\"].isnull(), \"Offers\"] = y_missing"
   ]
  },
  {
   "cell_type": "code",
   "execution_count": 24,
   "metadata": {},
   "outputs": [
    {
     "name": "stdout",
     "output_type": "stream",
     "text": [
      "                            OLS Regression Results                            \n",
      "==============================================================================\n",
      "Dep. Variable:                  Price   R-squared:                       0.636\n",
      "Model:                            OLS   Adj. R-squared:                  0.625\n",
      "Method:                 Least Squares   F-statistic:                     53.84\n",
      "Date:                Sat, 01 Apr 2023   Prob (F-statistic):           3.76e-26\n",
      "Time:                        11:32:14   Log-Likelihood:                -1421.8\n",
      "No. Observations:                 128   AIC:                             2854.\n",
      "Df Residuals:                     123   BIC:                             2868.\n",
      "Df Model:                           4                                         \n",
      "Covariance Type:            nonrobust                                         \n",
      "==============================================================================\n",
      "                 coef    std err          t      P>|t|      [0.025      0.975]\n",
      "------------------------------------------------------------------------------\n",
      "const      -1.175e+04   1.39e+04     -0.844      0.400   -3.93e+04    1.58e+04\n",
      "SqFt          54.3202      8.924      6.087      0.000      36.655      71.985\n",
      "Bed         8737.1678   2364.436      3.695      0.000    4056.912    1.34e+04\n",
      "Bath        1.643e+04   3429.648      4.792      0.000    9646.017    2.32e+04\n",
      "Offers     -1.372e+04   1680.276     -8.163      0.000    -1.7e+04   -1.04e+04\n",
      "==============================================================================\n",
      "Omnibus:                        0.605   Durbin-Watson:                   1.921\n",
      "Prob(Omnibus):                  0.739   Jarque-Bera (JB):                0.746\n",
      "Skew:                           0.119   Prob(JB):                        0.689\n",
      "Kurtosis:                       2.711   Cond. No.                     1.93e+04\n",
      "==============================================================================\n",
      "\n",
      "Notes:\n",
      "[1] Standard Errors assume that the covariance matrix of the errors is correctly specified.\n",
      "[2] The condition number is large, 1.93e+04. This might indicate that there are\n",
      "strong multicollinearity or other numerical problems.\n"
     ]
    }
   ],
   "source": [
    "ols = sm.OLS(df.Price, sm.add_constant(df.iloc[:, 1:5]))\n",
    "lm2 = ols.fit()\n",
    "print(lm2.summary())"
   ]
  },
  {
   "cell_type": "markdown",
   "metadata": {},
   "source": [
    "# #4"
   ]
  },
  {
   "cell_type": "code",
   "execution_count": 36,
   "metadata": {},
   "outputs": [
    {
     "name": "stderr",
     "output_type": "stream",
     "text": [
      "<ipython-input-36-21bfad7fef86>:10: SettingWithCopyWarning: \n",
      "A value is trying to be set on a copy of a slice from a DataFrame.\n",
      "Try using .loc[row_indexer,col_indexer] = value instead\n",
      "\n",
      "See the caveats in the documentation: https://pandas.pydata.org/pandas-docs/stable/user_guide/indexing.html#returning-a-view-versus-a-copy\n",
      "  df_test[[\"Offers\"]] = rand_pred\n"
     ]
    }
   ],
   "source": [
    "df_test = df[df['Offers'].isnull()==True]\n",
    "df_train = df[df['Offers'].isnull()==False]\n",
    "\n",
    "ols = sm.OLS(df_train[[\"Offers\"]], sm.add_constant(df_train[[\"SqFt\",\"Bed\",\"Bath\"]]))\n",
    "lm3 = ols.fit()\n",
    "\n",
    "mean = lm3.predict(sm.add_constant(df_test[[\"SqFt\",\"Bed\",\"Bath\"]]))\n",
    "std = lm3.resid.std()\n",
    "rand_pred = np.random.normal(size = df_test.shape[0], loc = mean, scale = std)\n",
    "df_test[[\"Offers\"]] = rand_pred\n",
    "df1 = pd.concat([df_train,df_test])"
   ]
  },
  {
   "cell_type": "code",
   "execution_count": 38,
   "metadata": {},
   "outputs": [
    {
     "name": "stdout",
     "output_type": "stream",
     "text": [
      "                            OLS Regression Results                            \n",
      "==============================================================================\n",
      "Dep. Variable:                  Price   R-squared:                       0.636\n",
      "Model:                            OLS   Adj. R-squared:                  0.625\n",
      "Method:                 Least Squares   F-statistic:                     53.84\n",
      "Date:                Sat, 01 Apr 2023   Prob (F-statistic):           3.76e-26\n",
      "Time:                        20:38:38   Log-Likelihood:                -1421.8\n",
      "No. Observations:                 128   AIC:                             2854.\n",
      "Df Residuals:                     123   BIC:                             2868.\n",
      "Df Model:                           4                                         \n",
      "Covariance Type:            nonrobust                                         \n",
      "==============================================================================\n",
      "                 coef    std err          t      P>|t|      [0.025      0.975]\n",
      "------------------------------------------------------------------------------\n",
      "const      -1.175e+04   1.39e+04     -0.844      0.400   -3.93e+04    1.58e+04\n",
      "SqFt          54.3202      8.924      6.087      0.000      36.655      71.985\n",
      "Bed         8737.1678   2364.436      3.695      0.000    4056.912    1.34e+04\n",
      "Bath        1.643e+04   3429.648      4.792      0.000    9646.017    2.32e+04\n",
      "Offers     -1.372e+04   1680.276     -8.163      0.000    -1.7e+04   -1.04e+04\n",
      "==============================================================================\n",
      "Omnibus:                        0.605   Durbin-Watson:                   1.921\n",
      "Prob(Omnibus):                  0.739   Jarque-Bera (JB):                0.746\n",
      "Skew:                           0.119   Prob(JB):                        0.689\n",
      "Kurtosis:                       2.711   Cond. No.                     1.93e+04\n",
      "==============================================================================\n",
      "\n",
      "Notes:\n",
      "[1] Standard Errors assume that the covariance matrix of the errors is correctly specified.\n",
      "[2] The condition number is large, 1.93e+04. This might indicate that there are\n",
      "strong multicollinearity or other numerical problems.\n"
     ]
    }
   ],
   "source": [
    "ols = sm.OLS(df1['Price'], sm.add_constant(df1.iloc[:, 1:5]))\n",
    "lm4 = ols.fit()\n",
    "\n",
    "print(lm4.summary())"
   ]
  },
  {
   "cell_type": "markdown",
   "metadata": {},
   "source": [
    "# #5"
   ]
  },
  {
   "cell_type": "code",
   "execution_count": 40,
   "metadata": {},
   "outputs": [
    {
     "name": "stdout",
     "output_type": "stream",
     "text": [
      "P-values for Model 1\n",
      "const    0.743504\n",
      "SqFt     0.001102\n",
      "Bed      0.000472\n",
      "Bath     0.001685\n",
      "dtype: float64\n"
     ]
    }
   ],
   "source": [
    "print(\"P-values for Model 1\")\n",
    "print(lm.pvalues)"
   ]
  },
  {
   "cell_type": "code",
   "execution_count": 41,
   "metadata": {},
   "outputs": [
    {
     "name": "stdout",
     "output_type": "stream",
     "text": [
      "P-values for Model 2\n",
      "const     4.004826e-01\n",
      "SqFt      1.350343e-08\n",
      "Bed       3.291760e-04\n",
      "Bath      4.666256e-06\n",
      "Offers    3.265925e-13\n",
      "dtype: float64\n"
     ]
    }
   ],
   "source": [
    "print(\"P-values for Model 2\")\n",
    "print(lm1.pvalues)"
   ]
  },
  {
   "cell_type": "code",
   "execution_count": 42,
   "metadata": {},
   "outputs": [
    {
     "name": "stdout",
     "output_type": "stream",
     "text": [
      "P-values for Model 3\n",
      "const     4.004826e-01\n",
      "SqFt      1.350343e-08\n",
      "Bed       3.291760e-04\n",
      "Bath      4.666256e-06\n",
      "Offers    3.265925e-13\n",
      "dtype: float64\n"
     ]
    }
   ],
   "source": [
    "print(\"P-values for Model 3\")\n",
    "print(lm2.pvalues)"
   ]
  },
  {
   "cell_type": "code",
   "execution_count": 43,
   "metadata": {},
   "outputs": [
    {
     "name": "stdout",
     "output_type": "stream",
     "text": [
      "P-values for Model 4\n",
      "const     4.004826e-01\n",
      "SqFt      1.350343e-08\n",
      "Bed       3.291760e-04\n",
      "Bath      4.666256e-06\n",
      "Offers    3.265925e-13\n",
      "dtype: float64\n"
     ]
    }
   ],
   "source": [
    "print(\"P-values for Model 4\")\n",
    "print(lm4.pvalues)"
   ]
  },
  {
   "cell_type": "markdown",
   "metadata": {},
   "source": [
    "# #6"
   ]
  },
  {
   "cell_type": "code",
   "execution_count": 50,
   "metadata": {},
   "outputs": [
    {
     "name": "stderr",
     "output_type": "stream",
     "text": [
      "<ipython-input-50-049405eee026>:14: SettingWithCopyWarning: \n",
      "A value is trying to be set on a copy of a slice from a DataFrame.\n",
      "Try using .loc[row_indexer,col_indexer] = value instead\n",
      "\n",
      "See the caveats in the documentation: https://pandas.pydata.org/pandas-docs/stable/user_guide/indexing.html#returning-a-view-versus-a-copy\n",
      "  df_test[[\"Offers\"]] = rand_pred\n"
     ]
    },
    {
     "data": {
      "text/plain": [
       "array([    54.32015702,   8737.16775803,  16434.79409602, -13716.27629802])"
      ]
     },
     "execution_count": 50,
     "metadata": {},
     "output_type": "execute_result"
    }
   ],
   "source": [
    "df_test = df[df['Offers'].isnull()==True]\n",
    "df_train = df[df['Offers'].isnull()==False]\n",
    "\n",
    "ols = sm.OLS(df_train[[\"Offers\"]], sm.add_constant(df_train[[\"SqFt\", \"Bed\", \"Bath\"]]))\n",
    "lm = ols.fit()\n",
    "\n",
    "mean = lm.predict(sm.add_constant(df_test[[\"SqFt\", \"Bed\", \"Bath\"]]))\n",
    "std = lm.resid.std()\n",
    "\n",
    "model = []\n",
    "coef = np.zeros((4,5))\n",
    "for i in range(0,5):\n",
    "    rand_pred = np.random.normal(size = df_test.shape[0], loc = mean, scale = std)\n",
    "    df_test[[\"Offers\"]] = rand_pred\n",
    "    df1 = pd.concat([df_train,df_test])\n",
    "    lm = sm.OLS(df1[[\"Price\"]], sm.add_constant(df1[[\"SqFt\", \"Bed\", \"Bath\", \"Offers\"]])).fit()\n",
    "    model.append(lm)\n",
    "    coef[:,i] = lm.params[1:]\n",
    "\n",
    "coef.mean(axis=1)\n"
   ]
  },
  {
   "cell_type": "code",
   "execution_count": 56,
   "metadata": {},
   "outputs": [],
   "source": [
    "integrated_coefficients = coef.mean(axis=1)\n",
    "integrated_model = sm.OLS(df1[[\"Price\"]], sm.add_constant(df1[[\"SqFt\",\"Bed\",\"Bath\",\"Offers\"]])).fit()"
   ]
  },
  {
   "cell_type": "code",
   "execution_count": 57,
   "metadata": {},
   "outputs": [
    {
     "name": "stdout",
     "output_type": "stream",
     "text": [
      "                            OLS Regression Results                            \n",
      "==============================================================================\n",
      "Dep. Variable:                  Price   R-squared:                       0.636\n",
      "Model:                            OLS   Adj. R-squared:                  0.625\n",
      "Method:                 Least Squares   F-statistic:                     53.84\n",
      "Date:                Sat, 01 Apr 2023   Prob (F-statistic):           3.76e-26\n",
      "Time:                        21:22:12   Log-Likelihood:                -1421.8\n",
      "No. Observations:                 128   AIC:                             2854.\n",
      "Df Residuals:                     123   BIC:                             2868.\n",
      "Df Model:                           4                                         \n",
      "Covariance Type:            nonrobust                                         \n",
      "==============================================================================\n",
      "                 coef    std err          t      P>|t|      [0.025      0.975]\n",
      "------------------------------------------------------------------------------\n",
      "const      -1.175e+04   1.39e+04     -0.844      0.400   -3.93e+04    1.58e+04\n",
      "SqFt          54.3202      8.924      6.087      0.000      36.655      71.985\n",
      "Bed         8737.1678   2364.436      3.695      0.000    4056.912    1.34e+04\n",
      "Bath        1.643e+04   3429.648      4.792      0.000    9646.017    2.32e+04\n",
      "Offers     -1.372e+04   1680.276     -8.163      0.000    -1.7e+04   -1.04e+04\n",
      "==============================================================================\n",
      "Omnibus:                        0.605   Durbin-Watson:                   1.921\n",
      "Prob(Omnibus):                  0.739   Jarque-Bera (JB):                0.746\n",
      "Skew:                           0.119   Prob(JB):                        0.689\n",
      "Kurtosis:                       2.711   Cond. No.                     1.93e+04\n",
      "==============================================================================\n",
      "\n",
      "Notes:\n",
      "[1] Standard Errors assume that the covariance matrix of the errors is correctly specified.\n",
      "[2] The condition number is large, 1.93e+04. This might indicate that there are\n",
      "strong multicollinearity or other numerical problems.\n"
     ]
    }
   ],
   "source": [
    "print(integrated_model.summary())"
   ]
  },
  {
   "cell_type": "code",
   "execution_count": null,
   "metadata": {},
   "outputs": [],
   "source": []
  }
 ],
 "metadata": {
  "kernelspec": {
   "display_name": "Python 3",
   "language": "python",
   "name": "python3"
  },
  "language_info": {
   "codemirror_mode": {
    "name": "ipython",
    "version": 3
   },
   "file_extension": ".py",
   "mimetype": "text/x-python",
   "name": "python",
   "nbconvert_exporter": "python",
   "pygments_lexer": "ipython3",
   "version": "3.8.5"
  }
 },
 "nbformat": 4,
 "nbformat_minor": 4
}
