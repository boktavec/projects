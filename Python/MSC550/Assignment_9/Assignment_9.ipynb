{
 "cells": [
  {
   "cell_type": "code",
   "execution_count": 1,
   "metadata": {},
   "outputs": [],
   "source": [
    "import pandas as pd\n",
    "import numpy as np\n",
    "import matplotlib.pyplot as plt\n",
    "from sklearn.model_selection import train_test_split\n",
    "import statsmodels.api as sm"
   ]
  },
  {
   "cell_type": "code",
   "execution_count": 2,
   "metadata": {},
   "outputs": [],
   "source": [
    "def create_model_results(model, mr, recall, precision, f1_score, auc_score):\n",
    "    model_results = {\n",
    "        'model': model,\n",
    "        'MR': mr,\n",
    "        'recall': recall,\n",
    "        'precision': precision,\n",
    "        'f1_score': f1_score,\n",
    "        'auc_score': auc_score\n",
    "    }\n",
    "    return model_results\n",
    "\n",
    "results = []"
   ]
  },
  {
   "cell_type": "markdown",
   "metadata": {},
   "source": [
    "# #1"
   ]
  },
  {
   "cell_type": "code",
   "execution_count": 3,
   "metadata": {},
   "outputs": [],
   "source": [
    "df = pd.read_csv('/Users/brianoktavec/MSC550/Assignment_9/BankCustomerChurnPrediction_revised-1.csv')"
   ]
  },
  {
   "cell_type": "code",
   "execution_count": 4,
   "metadata": {},
   "outputs": [
    {
     "data": {
      "text/html": [
       "<div>\n",
       "<style scoped>\n",
       "    .dataframe tbody tr th:only-of-type {\n",
       "        vertical-align: middle;\n",
       "    }\n",
       "\n",
       "    .dataframe tbody tr th {\n",
       "        vertical-align: top;\n",
       "    }\n",
       "\n",
       "    .dataframe thead th {\n",
       "        text-align: right;\n",
       "    }\n",
       "</style>\n",
       "<table border=\"1\" class=\"dataframe\">\n",
       "  <thead>\n",
       "    <tr style=\"text-align: right;\">\n",
       "      <th></th>\n",
       "      <th>credit_score</th>\n",
       "      <th>gender</th>\n",
       "      <th>age</th>\n",
       "      <th>tenure</th>\n",
       "      <th>balance</th>\n",
       "      <th>products_number</th>\n",
       "      <th>credit_card</th>\n",
       "      <th>active_member</th>\n",
       "      <th>estimated_salary</th>\n",
       "      <th>churn</th>\n",
       "    </tr>\n",
       "  </thead>\n",
       "  <tbody>\n",
       "    <tr>\n",
       "      <th>0</th>\n",
       "      <td>619</td>\n",
       "      <td>0</td>\n",
       "      <td>42</td>\n",
       "      <td>2</td>\n",
       "      <td>0.00</td>\n",
       "      <td>1</td>\n",
       "      <td>1</td>\n",
       "      <td>1</td>\n",
       "      <td>101348.88</td>\n",
       "      <td>1</td>\n",
       "    </tr>\n",
       "    <tr>\n",
       "      <th>1</th>\n",
       "      <td>608</td>\n",
       "      <td>0</td>\n",
       "      <td>41</td>\n",
       "      <td>1</td>\n",
       "      <td>83807.86</td>\n",
       "      <td>1</td>\n",
       "      <td>0</td>\n",
       "      <td>1</td>\n",
       "      <td>112542.58</td>\n",
       "      <td>0</td>\n",
       "    </tr>\n",
       "    <tr>\n",
       "      <th>2</th>\n",
       "      <td>502</td>\n",
       "      <td>0</td>\n",
       "      <td>42</td>\n",
       "      <td>8</td>\n",
       "      <td>159660.80</td>\n",
       "      <td>3</td>\n",
       "      <td>1</td>\n",
       "      <td>0</td>\n",
       "      <td>113931.57</td>\n",
       "      <td>1</td>\n",
       "    </tr>\n",
       "    <tr>\n",
       "      <th>3</th>\n",
       "      <td>699</td>\n",
       "      <td>0</td>\n",
       "      <td>39</td>\n",
       "      <td>1</td>\n",
       "      <td>0.00</td>\n",
       "      <td>2</td>\n",
       "      <td>0</td>\n",
       "      <td>0</td>\n",
       "      <td>93826.63</td>\n",
       "      <td>0</td>\n",
       "    </tr>\n",
       "    <tr>\n",
       "      <th>4</th>\n",
       "      <td>850</td>\n",
       "      <td>0</td>\n",
       "      <td>43</td>\n",
       "      <td>2</td>\n",
       "      <td>125510.82</td>\n",
       "      <td>1</td>\n",
       "      <td>1</td>\n",
       "      <td>1</td>\n",
       "      <td>79084.10</td>\n",
       "      <td>0</td>\n",
       "    </tr>\n",
       "  </tbody>\n",
       "</table>\n",
       "</div>"
      ],
      "text/plain": [
       "   credit_score  gender  age  tenure    balance  products_number  credit_card  \\\n",
       "0           619       0   42       2       0.00                1            1   \n",
       "1           608       0   41       1   83807.86                1            0   \n",
       "2           502       0   42       8  159660.80                3            1   \n",
       "3           699       0   39       1       0.00                2            0   \n",
       "4           850       0   43       2  125510.82                1            1   \n",
       "\n",
       "   active_member  estimated_salary  churn  \n",
       "0              1         101348.88      1  \n",
       "1              1         112542.58      0  \n",
       "2              0         113931.57      1  \n",
       "3              0          93826.63      0  \n",
       "4              1          79084.10      0  "
      ]
     },
     "execution_count": 4,
     "metadata": {},
     "output_type": "execute_result"
    }
   ],
   "source": [
    "df.head()"
   ]
  },
  {
   "cell_type": "markdown",
   "metadata": {},
   "source": [
    "# #2"
   ]
  },
  {
   "cell_type": "code",
   "execution_count": 5,
   "metadata": {},
   "outputs": [],
   "source": [
    "x = df.iloc[:, :-1]\n",
    "y = df.iloc[:, -1:]\n",
    "x_train, x_test, y_train, y_test = train_test_split(x, y, test_size=0.20, random_state = 0)"
   ]
  },
  {
   "cell_type": "code",
   "execution_count": 6,
   "metadata": {},
   "outputs": [
    {
     "name": "stdout",
     "output_type": "stream",
     "text": [
      "Optimization terminated successfully.\n",
      "         Current function value: 0.436842\n",
      "         Iterations 6\n",
      "                           Logit Regression Results                           \n",
      "==============================================================================\n",
      "Dep. Variable:                  churn   No. Observations:                 8000\n",
      "Model:                          Logit   Df Residuals:                     7990\n",
      "Method:                           MLE   Df Model:                            9\n",
      "Date:                Sun, 16 Apr 2023   Pseudo R-squ.:                  0.1365\n",
      "Time:                        15:31:27   Log-Likelihood:                -3494.7\n",
      "converged:                       True   LL-Null:                       -4047.2\n",
      "Covariance Type:            nonrobust   LLR p-value:                4.079e-232\n",
      "====================================================================================\n",
      "                       coef    std err          z      P>|z|      [0.025      0.975]\n",
      "------------------------------------------------------------------------------------\n",
      "const               -3.2910      0.269    -12.219      0.000      -3.819      -2.763\n",
      "credit_score        -0.0007      0.000     -2.241      0.025      -0.001   -8.67e-05\n",
      "gender              -0.5505      0.060     -9.136      0.000      -0.669      -0.432\n",
      "age                  0.0722      0.003     25.369      0.000       0.067       0.078\n",
      "tenure              -0.0280      0.010     -2.701      0.007      -0.048      -0.008\n",
      "balance           4.925e-06   5.13e-07      9.603      0.000    3.92e-06    5.93e-06\n",
      "products_number     -0.0746      0.053     -1.420      0.156      -0.178       0.028\n",
      "credit_card         -0.0371      0.066     -0.567      0.571      -0.166       0.091\n",
      "active_member       -1.0411      0.064    -16.391      0.000      -1.166      -0.917\n",
      "estimated_salary  5.541e-07   5.24e-07      1.058      0.290   -4.72e-07    1.58e-06\n",
      "====================================================================================\n"
     ]
    }
   ],
   "source": [
    "model=sm.Logit(y_train, sm.add_constant(x_train))\n",
    "lr = model.fit()\n",
    "print(lr.summary())"
   ]
  },
  {
   "cell_type": "code",
   "execution_count": 7,
   "metadata": {},
   "outputs": [
    {
     "name": "stdout",
     "output_type": "stream",
     "text": [
      "MR: 0.191\n",
      "Recall: 0.18024691358024691\n",
      "Precision: 0.5934959349593496\n",
      "F1 Score: 0.27651515151515155\n"
     ]
    }
   ],
   "source": [
    "from sklearn.metrics import confusion_matrix, classification_report\n",
    "from sklearn.metrics import precision_recall_curve, auc, average_precision_score, f1_score\n",
    "\n",
    "p_pred = lr.predict(sm.add_constant(x_test))\n",
    "y_pred = round(p_pred)\n",
    "\n",
    "y_pred_threshold = [1 if x >= 0.5 else 0 for x in y_pred]\n",
    "tn, fp, fn, tp = confusion_matrix(y_test, y_pred_threshold).ravel()\n",
    "\n",
    "mr1 = (fp + fn) / (tn + fp + fn + tp)\n",
    "r1 = tp/(tp+fn)\n",
    "p1 = tp/(tp+fp)\n",
    "f1_1 = f1_score(y_test, y_pred_threshold)\n",
    "\n",
    "\n",
    "\n",
    "print(\"MR:\", mr1)\n",
    "print(\"Recall:\", r1)\n",
    "print(\"Precision:\", p1)\n",
    "print(\"F1 Score:\", f1_1)"
   ]
  },
  {
   "cell_type": "code",
   "execution_count": 8,
   "metadata": {},
   "outputs": [
    {
     "name": "stdout",
     "output_type": "stream",
     "text": [
      "AUC for precision-recall curve: 0.4574254127398719\n",
      "AP score: 0.45917693323463676\n"
     ]
    },
    {
     "data": {
      "image/png": "[encoded data removed]",
      "text/plain": [
       "<Figure size 576x288 with 1 Axes>"
      ]
     },
     "metadata": {
      "needs_background": "light"
     },
     "output_type": "display_data"
    }
   ],
   "source": [
    "mr_precision = np.mean(y_test)\n",
    "lr_precision, lr_recall, _ = precision_recall_curve(y_test, p_pred)\n",
    "\n",
    "\n",
    "plt.figure(figsize=(8,4))\n",
    "plt.plot([0, 1], [mr_precision, mr_precision], linestyle='--')\n",
    "plt.plot(lr_recall, lr_precision, marker='.', label = 'Logistic')\n",
    "plt.xlabel('Recall')\n",
    "plt.ylabel('Precision')\n",
    "plt.legend()\n",
    "\n",
    "auc1 = auc(lr_recall, lr_precision)\n",
    "\n",
    "results1 = create_model_results('model1', mr1, r1, p1, f1_1, auc1)\n",
    "results.append(results1)\n",
    "\n",
    "print(\"AUC for precision-recall curve:\", auc1)\n",
    "print(\"AP score:\", average_precision_score(y_test, p_pred))"
   ]
  },
  {
   "cell_type": "markdown",
   "metadata": {},
   "source": [
    "# #3"
   ]
  },
  {
   "cell_type": "code",
   "execution_count": 9,
   "metadata": {},
   "outputs": [
    {
     "name": "stdout",
     "output_type": "stream",
     "text": [
      "Requirement already up-to-date: imbalanced-learn in /Users/brianoktavec/opt/anaconda3/lib/python3.8/site-packages (0.10.1)\n",
      "Requirement already satisfied, skipping upgrade: scikit-learn>=1.0.2 in /Users/brianoktavec/opt/anaconda3/lib/python3.8/site-packages (from imbalanced-learn) (1.2.2)\n",
      "Requirement already satisfied, skipping upgrade: numpy>=1.17.3 in /Users/brianoktavec/opt/anaconda3/lib/python3.8/site-packages (from imbalanced-learn) (1.19.2)\n",
      "Requirement already satisfied, skipping upgrade: joblib>=1.1.1 in /Users/brianoktavec/opt/anaconda3/lib/python3.8/site-packages (from imbalanced-learn) (1.2.0)\n",
      "Requirement already satisfied, skipping upgrade: scipy>=1.3.2 in /Users/brianoktavec/opt/anaconda3/lib/python3.8/site-packages (from imbalanced-learn) (1.5.2)\n",
      "Requirement already satisfied, skipping upgrade: threadpoolctl>=2.0.0 in /Users/brianoktavec/opt/anaconda3/lib/python3.8/site-packages (from imbalanced-learn) (2.1.0)\n",
      "Note: you may need to restart the kernel to use updated packages.\n"
     ]
    }
   ],
   "source": [
    "pip install -U imbalanced-learn"
   ]
  },
  {
   "cell_type": "code",
   "execution_count": 10,
   "metadata": {},
   "outputs": [],
   "source": [
    "from imblearn.under_sampling import RandomUnderSampler\n",
    "undersample = RandomUnderSampler(sampling_strategy='majority', random_state = 0)\n",
    "x_train_under, y_train_under = undersample.fit_resample(x_train, y_train)"
   ]
  },
  {
   "cell_type": "code",
   "execution_count": 11,
   "metadata": {},
   "outputs": [
    {
     "name": "stdout",
     "output_type": "stream",
     "text": [
      "Optimization terminated successfully.\n",
      "         Current function value: 0.591984\n",
      "         Iterations 5\n",
      "                           Logit Regression Results                           \n",
      "==============================================================================\n",
      "Dep. Variable:                  churn   No. Observations:                 3264\n",
      "Model:                          Logit   Df Residuals:                     3254\n",
      "Method:                           MLE   Df Model:                            9\n",
      "Date:                Sun, 16 Apr 2023   Pseudo R-squ.:                  0.1459\n",
      "Time:                        15:31:30   Log-Likelihood:                -1932.2\n",
      "converged:                       True   LL-Null:                       -2262.4\n",
      "Covariance Type:            nonrobust   LLR p-value:                2.250e-136\n",
      "====================================================================================\n",
      "                       coef    std err          z      P>|z|      [0.025      0.975]\n",
      "------------------------------------------------------------------------------------\n",
      "const               -2.1884      0.351     -6.227      0.000      -2.877      -1.500\n",
      "credit_score        -0.0009      0.000     -2.249      0.025      -0.002      -0.000\n",
      "gender              -0.5749      0.078     -7.367      0.000      -0.728      -0.422\n",
      "age                  0.0778      0.004     18.639      0.000       0.070       0.086\n",
      "tenure              -0.0229      0.013     -1.710      0.087      -0.049       0.003\n",
      "balance           4.977e-06    6.5e-07      7.661      0.000     3.7e-06    6.25e-06\n",
      "products_number     -0.0755      0.059     -1.274      0.202      -0.192       0.041\n",
      "credit_card          0.0230      0.085      0.272      0.786      -0.143       0.189\n",
      "active_member       -0.8537      0.079    -10.833      0.000      -1.008      -0.699\n",
      "estimated_salary  6.656e-07   6.82e-07      0.976      0.329   -6.71e-07       2e-06\n",
      "====================================================================================\n"
     ]
    }
   ],
   "source": [
    "model2 = sm.Logit(y_train_under, sm.add_constant(x_train_under))\n",
    "lr2 = model2.fit()\n",
    "print(lr2.summary())"
   ]
  },
  {
   "cell_type": "code",
   "execution_count": 12,
   "metadata": {},
   "outputs": [
    {
     "name": "stdout",
     "output_type": "stream",
     "text": [
      "MR: 0.294\n",
      "Recall: 0.7160493827160493\n",
      "Precision: 0.3800786369593709\n",
      "F1 Score: 0.49657534246575347\n"
     ]
    }
   ],
   "source": [
    "p_pred2 = lr2.predict(sm.add_constant(x_test))\n",
    "y_pred2 = round(p_pred2)\n",
    "\n",
    "y_pred_threshold2 = [1 if x >= 0.5 else 0 for x in y_pred2]\n",
    "tn, fp, fn, tp = confusion_matrix(y_test, y_pred_threshold2).ravel()\n",
    "\n",
    "mr2 = (fp + fn) / (tn + fp + fn + tp)\n",
    "r2 = tp/(tp+fn)\n",
    "p2 = tp/(tp+fp)\n",
    "f1_2 = f1_score(y_test, y_pred_threshold2)\n",
    "\n",
    "print(\"MR:\", mr2)\n",
    "print(\"Recall:\", r2)\n",
    "print(\"Precision:\", p2)\n",
    "print(\"F1 Score:\", f1_2)"
   ]
  },
  {
   "cell_type": "code",
   "execution_count": 13,
   "metadata": {},
   "outputs": [
    {
     "name": "stdout",
     "output_type": "stream",
     "text": [
      "AUC for precision-recall curve: 0.44129085569101406\n",
      "AP score: 0.44350855825781976\n"
     ]
    },
    {
     "data": {
      "image/png": "[encoded data removed]",
      "text/plain": [
       "<Figure size 576x288 with 1 Axes>"
      ]
     },
     "metadata": {
      "needs_background": "light"
     },
     "output_type": "display_data"
    }
   ],
   "source": [
    "mr_precision = np.mean(y_test)\n",
    "lr_precision, lr_recall, _ = precision_recall_curve(y_test, p_pred2)\n",
    "\n",
    "\n",
    "plt.figure(figsize=(8,4))\n",
    "plt.plot([0, 1], [mr_precision, mr_precision], linestyle='--')\n",
    "plt.plot(lr_recall, lr_precision, marker='.', label = 'Logistic')\n",
    "plt.xlabel('Recall')\n",
    "plt.ylabel('Precision')\n",
    "plt.legend()\n",
    "\n",
    "auc2 = auc(lr_recall, lr_precision)\n",
    "\n",
    "results2 = create_model_results('model2', mr2, r2, p2, f1_2, auc2)\n",
    "results.append(results2)\n",
    "\n",
    "print(\"AUC for precision-recall curve:\", auc2)\n",
    "print(\"AP score:\", average_precision_score(y_test, p_pred2))"
   ]
  },
  {
   "cell_type": "markdown",
   "metadata": {},
   "source": [
    "# #4"
   ]
  },
  {
   "cell_type": "code",
   "execution_count": 14,
   "metadata": {},
   "outputs": [],
   "source": [
    "from imblearn.over_sampling import RandomOverSampler\n",
    "oversample = RandomOverSampler(sampling_strategy='minority', random_state = 0)\n",
    "x_train_over, y_train_over = oversample.fit_resample(x_train, y_train)"
   ]
  },
  {
   "cell_type": "code",
   "execution_count": 15,
   "metadata": {},
   "outputs": [
    {
     "name": "stdout",
     "output_type": "stream",
     "text": [
      "Optimization terminated successfully.\n",
      "         Current function value: 0.584360\n",
      "         Iterations 6\n",
      "                           Logit Regression Results                           \n",
      "==============================================================================\n",
      "Dep. Variable:                  churn   No. Observations:                12736\n",
      "Model:                          Logit   Df Residuals:                    12726\n",
      "Method:                           MLE   Df Model:                            9\n",
      "Date:                Sun, 16 Apr 2023   Pseudo R-squ.:                  0.1569\n",
      "Time:                        15:31:30   Log-Likelihood:                -7442.4\n",
      "converged:                       True   LL-Null:                       -8827.9\n",
      "Covariance Type:            nonrobust   LLR p-value:                     0.000\n",
      "====================================================================================\n",
      "                       coef    std err          z      P>|z|      [0.025      0.975]\n",
      "------------------------------------------------------------------------------------\n",
      "const               -2.3208      0.179    -12.991      0.000      -2.671      -1.971\n",
      "credit_score        -0.0008      0.000     -3.712      0.000      -0.001      -0.000\n",
      "gender              -0.5585      0.040    -14.020      0.000      -0.637      -0.480\n",
      "age                  0.0805      0.002     37.923      0.000       0.076       0.085\n",
      "tenure              -0.0293      0.007     -4.281      0.000      -0.043      -0.016\n",
      "balance           5.215e-06   3.32e-07     15.720      0.000    4.56e-06    5.87e-06\n",
      "products_number     -0.0718      0.030     -2.381      0.017      -0.131      -0.013\n",
      "credit_card          0.0119      0.044      0.273      0.785      -0.074       0.097\n",
      "active_member       -0.9112      0.040    -22.621      0.000      -0.990      -0.832\n",
      "estimated_salary  3.201e-07   3.43e-07      0.932      0.351   -3.53e-07    9.93e-07\n",
      "====================================================================================\n"
     ]
    }
   ],
   "source": [
    "model3 = sm.Logit(y_train_over, sm.add_constant(x_train_over))\n",
    "lr3 = model3.fit()\n",
    "print(lr3.summary())"
   ]
  },
  {
   "cell_type": "code",
   "execution_count": 16,
   "metadata": {},
   "outputs": [
    {
     "name": "stdout",
     "output_type": "stream",
     "text": [
      "MR: 0.2955\n",
      "Recall: 0.7185185185185186\n",
      "Precision: 0.37890625\n",
      "F1 Score: 0.4961636828644501\n"
     ]
    }
   ],
   "source": [
    "p_pred3 = lr3.predict(sm.add_constant(x_test))\n",
    "y_pred3 = round(p_pred3)\n",
    "\n",
    "y_pred_threshold3 = [1 if x >= 0.5 else 0 for x in y_pred3]\n",
    "tn, fp, fn, tp = confusion_matrix(y_test, y_pred_threshold3).ravel()\n",
    "\n",
    "mr3 = (fp + fn) / (tn + fp + fn + tp)\n",
    "r3 = tp/(tp+fn)\n",
    "p3 = tp/(tp+fp)\n",
    "f1_3 = f1_score(y_test, y_pred_threshold3)\n",
    "\n",
    "print(\"MR:\", mr3)\n",
    "print(\"Recall:\", r3)\n",
    "print(\"Precision:\", p3)\n",
    "print(\"F1 Score:\", f1_3)"
   ]
  },
  {
   "cell_type": "code",
   "execution_count": 17,
   "metadata": {},
   "outputs": [
    {
     "name": "stdout",
     "output_type": "stream",
     "text": [
      "AUC for precision-recall curve: 0.4414257571378078\n",
      "AP score: 0.44364258243648835\n"
     ]
    },
    {
     "data": {
      "image/png": "[encoded data removed]",
      "text/plain": [
       "<Figure size 576x288 with 1 Axes>"
      ]
     },
     "metadata": {
      "needs_background": "light"
     },
     "output_type": "display_data"
    }
   ],
   "source": [
    "mr_precision = np.mean(y_test)\n",
    "lr_precision, lr_recall, _ = precision_recall_curve(y_test, p_pred3)\n",
    "\n",
    "\n",
    "plt.figure(figsize=(8,4))\n",
    "plt.plot([0, 1], [mr_precision, mr_precision], linestyle='--')\n",
    "plt.plot(lr_recall, lr_precision, marker='.', label = 'Logistic')\n",
    "plt.xlabel('Recall')\n",
    "plt.ylabel('Precision')\n",
    "plt.legend()\n",
    "\n",
    "auc3 = auc(lr_recall, lr_precision)\n",
    "\n",
    "results3 = create_model_results('model3', mr3, r3, p3, f1_3, auc3)\n",
    "results.append(results3)\n",
    "\n",
    "print(\"AUC for precision-recall curve:\", auc3)\n",
    "print(\"AP score:\", average_precision_score(y_test, p_pred3))"
   ]
  },
  {
   "cell_type": "markdown",
   "metadata": {},
   "source": [
    "# #5"
   ]
  },
  {
   "cell_type": "code",
   "execution_count": 18,
   "metadata": {},
   "outputs": [
    {
     "name": "stderr",
     "output_type": "stream",
     "text": [
      "/Users/brianoktavec/opt/anaconda3/lib/python3.8/site-packages/scipy/optimize/linesearch.py:477: LineSearchWarning: The line search algorithm did not converge\n",
      "  warn('The line search algorithm did not converge', LineSearchWarning)\n",
      "/Users/brianoktavec/opt/anaconda3/lib/python3.8/site-packages/scipy/optimize/linesearch.py:327: LineSearchWarning: The line search algorithm did not converge\n",
      "  warn('The line search algorithm did not converge', LineSearchWarning)\n"
     ]
    },
    {
     "name": "stdout",
     "output_type": "stream",
     "text": [
      "[[-7.08999976e-04 -5.77550630e-01  7.86325042e-02 -2.62661655e-02\n",
      "   5.16809037e-06 -8.10990216e-02 -3.77173405e-02 -8.82529022e-01\n",
      "   4.77585804e-07]]\n",
      "[-2.24915946]\n",
      "[0 1 0 ... 1 0 0]\n",
      "0.703\n"
     ]
    },
    {
     "name": "stderr",
     "output_type": "stream",
     "text": [
      "/Users/brianoktavec/opt/anaconda3/lib/python3.8/site-packages/scipy/optimize/linesearch.py:437: LineSearchWarning: Rounding errors prevent the line search from converging\n",
      "  warn(msg, LineSearchWarning)\n",
      "/Users/brianoktavec/opt/anaconda3/lib/python3.8/site-packages/sklearn/utils/optimize.py:203: UserWarning: Line Search failed\n",
      "  warnings.warn(\"Line Search failed\")\n"
     ]
    }
   ],
   "source": [
    "from sklearn.linear_model import LogisticRegression\n",
    "from sklearn import metrics\n",
    "\n",
    "model4 = LogisticRegression(solver='newton-cg', max_iter=1000, class_weight='balanced')\n",
    "\n",
    "lr4 = model4.fit(x_train,y_train.values.ravel())\n",
    "print(lr4.coef_)\n",
    "print(lr4.intercept_)\n",
    "print(lr4.predict(x_test))\n",
    "print(metrics.accuracy_score(y_test, lr4.predict(x_test)))"
   ]
  },
  {
   "cell_type": "code",
   "execution_count": 19,
   "metadata": {},
   "outputs": [
    {
     "name": "stdout",
     "output_type": "stream",
     "text": [
      "MR: 0.297\n",
      "Recall: 0.7185185185185186\n",
      "Precision: 0.377431906614786\n",
      "F1 Score: 0.49489795918367346\n"
     ]
    }
   ],
   "source": [
    "y_pred4 = lr4.predict(x_test)\n",
    "\n",
    "tn, fp, fn, tp = confusion_matrix(y_test, y_pred4).ravel()\n",
    "\n",
    "y_pred_threshold4 = [1 if x >= 0.5 else 0 for x in y_pred4]\n",
    "tn, fp, fn, tp = confusion_matrix(y_test, y_pred_threshold4).ravel()\n",
    "\n",
    "mr4 = (fp + fn) / (tn + fp + fn + tp)\n",
    "r4 = tp/(tp+fn)\n",
    "p4 = tp/(tp+fp)\n",
    "f1_4 = f1_score(y_test, y_pred4)\n",
    "\n",
    "\n",
    "print(\"MR:\", mr4 )\n",
    "print(\"Recall:\", r4)\n",
    "print(\"Precision:\", p4)\n",
    "print(\"F1 Score:\", f1_4)"
   ]
  },
  {
   "cell_type": "code",
   "execution_count": 20,
   "metadata": {},
   "outputs": [
    {
     "name": "stdout",
     "output_type": "stream",
     "text": [
      "AUC for precision-recall curve: 0.5764752125666522\n",
      "AP score: 0.32819181438247585\n"
     ]
    },
    {
     "data": {
      "image/png": "[encoded data removed]",
      "text/plain": [
       "<Figure size 576x288 with 1 Axes>"
      ]
     },
     "metadata": {
      "needs_background": "light"
     },
     "output_type": "display_data"
    }
   ],
   "source": [
    "mr_precision = np.mean(y_test)\n",
    "lr_precision, lr_recall, _ = precision_recall_curve(y_test, y_pred4)\n",
    "\n",
    "\n",
    "plt.figure(figsize=(8,4))\n",
    "plt.plot([0, 1], [mr_precision, mr_precision], linestyle='--')\n",
    "plt.plot(lr_recall, lr_precision, marker='.', label = 'Logistic')\n",
    "plt.xlabel('Recall')\n",
    "plt.ylabel('Precision')\n",
    "plt.legend()\n",
    "\n",
    "auc4 = auc(lr_recall, lr_precision)\n",
    "\n",
    "results4 = create_model_results('model4', mr4, r4, p4, f1_4, auc4)\n",
    "results.append(results4)\n",
    "\n",
    "\n",
    "print(\"AUC for precision-recall curve:\", auc4)\n",
    "print(\"AP score:\", average_precision_score(y_test, y_pred4))"
   ]
  },
  {
   "cell_type": "code",
   "execution_count": 21,
   "metadata": {},
   "outputs": [
    {
     "name": "stdout",
     "output_type": "stream",
     "text": [
      "            MR    recall  precision  f1_score  auc_score\n",
      "model                                                   \n",
      "model1  0.1910  0.180247   0.593496  0.276515   0.457425\n",
      "model2  0.2940  0.716049   0.380079  0.496575   0.441291\n",
      "model3  0.2955  0.718519   0.378906  0.496164   0.441426\n",
      "model4  0.2970  0.718519   0.377432  0.494898   0.576475\n"
     ]
    }
   ],
   "source": [
    "results_table = pd.DataFrame(results)\n",
    "\n",
    "results_table.set_index(\"model\", inplace=True)\n",
    "\n",
    "print(results_table)"
   ]
  },
  {
   "cell_type": "code",
   "execution_count": null,
   "metadata": {},
   "outputs": [],
   "source": []
  }
 ],
 "metadata": {
  "kernelspec": {
   "display_name": "Python 3",
   "language": "python",
   "name": "python3"
  },
  "language_info": {
   "codemirror_mode": {
    "name": "ipython",
    "version": 3
   },
   "file_extension": ".py",
   "mimetype": "text/x-python",
   "name": "python",
   "nbconvert_exporter": "python",
   "pygments_lexer": "ipython3",
   "version": "3.8.5"
  }
 },
 "nbformat": 4,
 "nbformat_minor": 4
}
