{
 "cells": [
  {
   "cell_type": "code",
   "execution_count": 1,
   "metadata": {},
   "outputs": [],
   "source": [
    "import pandas as pd\n",
    "import numpy as np\n",
    "import matplotlib.pyplot as plt\n",
    "import statsmodels.api as sm"
   ]
  },
  {
   "cell_type": "code",
   "execution_count": 2,
   "metadata": {},
   "outputs": [
    {
     "data": {
      "text/html": [
       "<div>\n",
       "<style scoped>\n",
       "    .dataframe tbody tr th:only-of-type {\n",
       "        vertical-align: middle;\n",
       "    }\n",
       "\n",
       "    .dataframe tbody tr th {\n",
       "        vertical-align: top;\n",
       "    }\n",
       "\n",
       "    .dataframe thead th {\n",
       "        text-align: right;\n",
       "    }\n",
       "</style>\n",
       "<table border=\"1\" class=\"dataframe\">\n",
       "  <thead>\n",
       "    <tr style=\"text-align: right;\">\n",
       "      <th></th>\n",
       "      <th>area</th>\n",
       "      <th>bedrooms</th>\n",
       "      <th>bathrooms</th>\n",
       "      <th>stories</th>\n",
       "      <th>mainroad</th>\n",
       "      <th>guestroom</th>\n",
       "      <th>basement</th>\n",
       "      <th>hotwaterheating</th>\n",
       "      <th>airconditioning</th>\n",
       "      <th>parking</th>\n",
       "      <th>price</th>\n",
       "    </tr>\n",
       "  </thead>\n",
       "  <tbody>\n",
       "    <tr>\n",
       "      <th>0</th>\n",
       "      <td>4306.971093</td>\n",
       "      <td>4</td>\n",
       "      <td>2</td>\n",
       "      <td>3</td>\n",
       "      <td>yes</td>\n",
       "      <td>no</td>\n",
       "      <td>no</td>\n",
       "      <td>no</td>\n",
       "      <td>yes</td>\n",
       "      <td>2</td>\n",
       "      <td>23807.62253</td>\n",
       "    </tr>\n",
       "    <tr>\n",
       "      <th>1</th>\n",
       "      <td>4732.863826</td>\n",
       "      <td>4</td>\n",
       "      <td>4</td>\n",
       "      <td>4</td>\n",
       "      <td>yes</td>\n",
       "      <td>no</td>\n",
       "      <td>no</td>\n",
       "      <td>no</td>\n",
       "      <td>yes</td>\n",
       "      <td>3</td>\n",
       "      <td>46173.57355</td>\n",
       "    </tr>\n",
       "    <tr>\n",
       "      <th>2</th>\n",
       "      <td>4989.989980</td>\n",
       "      <td>3</td>\n",
       "      <td>2</td>\n",
       "      <td>2</td>\n",
       "      <td>yes</td>\n",
       "      <td>no</td>\n",
       "      <td>yes</td>\n",
       "      <td>no</td>\n",
       "      <td>no</td>\n",
       "      <td>2</td>\n",
       "      <td>25491.22063</td>\n",
       "    </tr>\n",
       "    <tr>\n",
       "      <th>3</th>\n",
       "      <td>4330.127019</td>\n",
       "      <td>4</td>\n",
       "      <td>2</td>\n",
       "      <td>2</td>\n",
       "      <td>yes</td>\n",
       "      <td>no</td>\n",
       "      <td>yes</td>\n",
       "      <td>no</td>\n",
       "      <td>yes</td>\n",
       "      <td>3</td>\n",
       "      <td>18941.80522</td>\n",
       "    </tr>\n",
       "    <tr>\n",
       "      <th>4</th>\n",
       "      <td>4306.971093</td>\n",
       "      <td>4</td>\n",
       "      <td>1</td>\n",
       "      <td>2</td>\n",
       "      <td>yes</td>\n",
       "      <td>yes</td>\n",
       "      <td>yes</td>\n",
       "      <td>no</td>\n",
       "      <td>yes</td>\n",
       "      <td>2</td>\n",
       "      <td>17582.99123</td>\n",
       "    </tr>\n",
       "  </tbody>\n",
       "</table>\n",
       "</div>"
      ],
      "text/plain": [
       "          area  bedrooms  bathrooms  stories mainroad guestroom basement  \\\n",
       "0  4306.971093         4          2        3      yes        no       no   \n",
       "1  4732.863826         4          4        4      yes        no       no   \n",
       "2  4989.989980         3          2        2      yes        no      yes   \n",
       "3  4330.127019         4          2        2      yes        no      yes   \n",
       "4  4306.971093         4          1        2      yes       yes      yes   \n",
       "\n",
       "  hotwaterheating airconditioning  parking        price  \n",
       "0              no             yes        2  23807.62253  \n",
       "1              no             yes        3  46173.57355  \n",
       "2              no              no        2  25491.22063  \n",
       "3              no             yes        3  18941.80522  \n",
       "4              no             yes        2  17582.99123  "
      ]
     },
     "execution_count": 2,
     "metadata": {},
     "output_type": "execute_result"
    }
   ],
   "source": [
    "# Import data\n",
    "df = pd.read_csv('/Users/brianoktavec/MSC550/Midterm/housing_train.csv')\n",
    "df.head()"
   ]
  },
  {
   "cell_type": "code",
   "execution_count": 3,
   "metadata": {},
   "outputs": [
    {
     "data": {
      "text/html": [
       "<div>\n",
       "<style scoped>\n",
       "    .dataframe tbody tr th:only-of-type {\n",
       "        vertical-align: middle;\n",
       "    }\n",
       "\n",
       "    .dataframe tbody tr th {\n",
       "        vertical-align: top;\n",
       "    }\n",
       "\n",
       "    .dataframe thead th {\n",
       "        text-align: right;\n",
       "    }\n",
       "</style>\n",
       "<table border=\"1\" class=\"dataframe\">\n",
       "  <thead>\n",
       "    <tr style=\"text-align: right;\">\n",
       "      <th></th>\n",
       "      <th>price</th>\n",
       "      <th>area</th>\n",
       "      <th>bedrooms</th>\n",
       "      <th>bathrooms</th>\n",
       "      <th>stories</th>\n",
       "      <th>parking</th>\n",
       "      <th>guestroom_yes</th>\n",
       "      <th>mainroad_yes</th>\n",
       "      <th>basement_yes</th>\n",
       "      <th>hotwaterheating_yes</th>\n",
       "      <th>airconditioning_yes</th>\n",
       "    </tr>\n",
       "  </thead>\n",
       "  <tbody>\n",
       "    <tr>\n",
       "      <th>0</th>\n",
       "      <td>23807.62253</td>\n",
       "      <td>4306.971093</td>\n",
       "      <td>4</td>\n",
       "      <td>2</td>\n",
       "      <td>3</td>\n",
       "      <td>2</td>\n",
       "      <td>0</td>\n",
       "      <td>1</td>\n",
       "      <td>0</td>\n",
       "      <td>0</td>\n",
       "      <td>1</td>\n",
       "    </tr>\n",
       "    <tr>\n",
       "      <th>1</th>\n",
       "      <td>46173.57355</td>\n",
       "      <td>4732.863826</td>\n",
       "      <td>4</td>\n",
       "      <td>4</td>\n",
       "      <td>4</td>\n",
       "      <td>3</td>\n",
       "      <td>0</td>\n",
       "      <td>1</td>\n",
       "      <td>0</td>\n",
       "      <td>0</td>\n",
       "      <td>1</td>\n",
       "    </tr>\n",
       "    <tr>\n",
       "      <th>2</th>\n",
       "      <td>25491.22063</td>\n",
       "      <td>4989.989980</td>\n",
       "      <td>3</td>\n",
       "      <td>2</td>\n",
       "      <td>2</td>\n",
       "      <td>2</td>\n",
       "      <td>0</td>\n",
       "      <td>1</td>\n",
       "      <td>1</td>\n",
       "      <td>0</td>\n",
       "      <td>0</td>\n",
       "    </tr>\n",
       "    <tr>\n",
       "      <th>3</th>\n",
       "      <td>18941.80522</td>\n",
       "      <td>4330.127019</td>\n",
       "      <td>4</td>\n",
       "      <td>2</td>\n",
       "      <td>2</td>\n",
       "      <td>3</td>\n",
       "      <td>0</td>\n",
       "      <td>1</td>\n",
       "      <td>1</td>\n",
       "      <td>0</td>\n",
       "      <td>1</td>\n",
       "    </tr>\n",
       "    <tr>\n",
       "      <th>4</th>\n",
       "      <td>17582.99123</td>\n",
       "      <td>4306.971093</td>\n",
       "      <td>4</td>\n",
       "      <td>1</td>\n",
       "      <td>2</td>\n",
       "      <td>2</td>\n",
       "      <td>1</td>\n",
       "      <td>1</td>\n",
       "      <td>1</td>\n",
       "      <td>0</td>\n",
       "      <td>1</td>\n",
       "    </tr>\n",
       "  </tbody>\n",
       "</table>\n",
       "</div>"
      ],
      "text/plain": [
       "         price         area  bedrooms  bathrooms  stories  parking  \\\n",
       "0  23807.62253  4306.971093         4          2        3        2   \n",
       "1  46173.57355  4732.863826         4          4        4        3   \n",
       "2  25491.22063  4989.989980         3          2        2        2   \n",
       "3  18941.80522  4330.127019         4          2        2        3   \n",
       "4  17582.99123  4306.971093         4          1        2        2   \n",
       "\n",
       "   guestroom_yes  mainroad_yes  basement_yes  hotwaterheating_yes  \\\n",
       "0              0             1             0                    0   \n",
       "1              0             1             0                    0   \n",
       "2              0             1             1                    0   \n",
       "3              0             1             1                    0   \n",
       "4              1             1             1                    0   \n",
       "\n",
       "   airconditioning_yes  \n",
       "0                    1  \n",
       "1                    1  \n",
       "2                    0  \n",
       "3                    1  \n",
       "4                    1  "
      ]
     },
     "execution_count": 3,
     "metadata": {},
     "output_type": "execute_result"
    }
   ],
   "source": [
    "# Make a copy of the data\n",
    "df1 = df\n",
    "# Convert yes/no to dummy data - 1 & 0\n",
    "df1 = pd.get_dummies(df, columns=['guestroom','mainroad','basement','hotwaterheating','airconditioning'], drop_first=True)\n",
    "# Rearrange the columns\n",
    "df1 = df1[['price','area','bedrooms','bathrooms','stories','parking','guestroom_yes','mainroad_yes','basement_yes','hotwaterheating_yes','airconditioning_yes']]\n",
    "\n",
    "df1.head()\n"
   ]
  },
  {
   "cell_type": "markdown",
   "metadata": {},
   "source": [
    "### Base Model Made for reference "
   ]
  },
  {
   "cell_type": "code",
   "execution_count": 4,
   "metadata": {},
   "outputs": [
    {
     "name": "stdout",
     "output_type": "stream",
     "text": [
      "                            OLS Regression Results                            \n",
      "==============================================================================\n",
      "Dep. Variable:                  price   R-squared:                       0.868\n",
      "Model:                            OLS   Adj. R-squared:                  0.865\n",
      "Method:                 Least Squares   F-statistic:                     346.4\n",
      "Date:                Sun, 12 Mar 2023   Prob (F-statistic):          7.67e-225\n",
      "Time:                        23:11:36   Log-Likelihood:                -4935.6\n",
      "No. Observations:                 540   AIC:                             9893.\n",
      "Df Residuals:                     529   BIC:                             9940.\n",
      "Df Model:                          10                                         \n",
      "Covariance Type:            nonrobust                                         \n",
      "=======================================================================================\n",
      "                          coef    std err          t      P>|t|      [0.025      0.975]\n",
      "---------------------------------------------------------------------------------------\n",
      "const                -1.99e+04    631.814    -31.500      0.000   -2.11e+04   -1.87e+04\n",
      "area                    6.5789      0.158     41.578      0.000       6.268       6.890\n",
      "bedrooms              308.4766    154.663      1.995      0.047       4.647     612.306\n",
      "bathrooms            2400.1873    221.901     10.816      0.000    1964.273    2836.102\n",
      "stories              1702.2485    137.413     12.388      0.000    1432.306    1972.191\n",
      "parking               775.0578    125.123      6.194      0.000     529.258    1020.857\n",
      "guestroom_yes        -188.2469    284.738     -0.661      0.509    -747.603     371.109\n",
      "mainroad_yes         -551.6684    301.545     -1.829      0.068   -1144.041      40.704\n",
      "basement_yes         1331.7594    232.131      5.737      0.000     875.747    1787.772\n",
      "hotwaterheating_yes  -358.8964    483.557     -0.742      0.458   -1308.824     591.031\n",
      "airconditioning_yes  -627.6635    232.231     -2.703      0.007   -1083.871    -171.456\n",
      "==============================================================================\n",
      "Omnibus:                      197.678   Durbin-Watson:                   1.748\n",
      "Prob(Omnibus):                  0.000   Jarque-Bera (JB):             1321.689\n",
      "Skew:                           1.444   Prob(JB):                    9.97e-288\n",
      "Kurtosis:                      10.099   Cond. No.                     2.35e+04\n",
      "==============================================================================\n",
      "\n",
      "Notes:\n",
      "[1] Standard Errors assume that the covariance matrix of the errors is correctly specified.\n",
      "[2] The condition number is large, 2.35e+04. This might indicate that there are\n",
      "strong multicollinearity or other numerical problems.\n"
     ]
    }
   ],
   "source": [
    "# Get baseline linear regression\n",
    "ols = sm.OLS(df1.price, sm.add_constant(df1.iloc[:, 1:11]))\n",
    "lm1 = ols.fit()\n",
    "print(lm1.summary())"
   ]
  },
  {
   "cell_type": "code",
   "execution_count": 5,
   "metadata": {},
   "outputs": [
    {
     "data": {
      "text/plain": [
       "Text(0, 0.5, 'Residuals')"
      ]
     },
     "execution_count": 5,
     "metadata": {},
     "output_type": "execute_result"
    },
    {
     "data": {
      "image/png": "[encoded data removed]",
      "text/plain": [
       "<Figure size 864x432 with 1 Axes>"
      ]
     },
     "metadata": {
      "needs_background": "light"
     },
     "output_type": "display_data"
    }
   ],
   "source": [
    "fitted_y = lm1.fittedvalues\n",
    "residual = lm1.resid\n",
    "plt.figure(figsize=(12,6))\n",
    "plt.scatter(fitted_y,residual)\n",
    "plt.title('Residuals v.s. Fitted')\n",
    "plt.xlabel('Fitted values')\n",
    "plt.ylabel('Residuals')"
   ]
  },
  {
   "cell_type": "code",
   "execution_count": 6,
   "metadata": {},
   "outputs": [
    {
     "data": {
      "text/plain": [
       "Text(0, 0.5, 'Frequency')"
      ]
     },
     "execution_count": 6,
     "metadata": {},
     "output_type": "execute_result"
    },
    {
     "data": {
      "image/png": "[encoded data removed]",
      "text/plain": [
       "<Figure size 432x288 with 1 Axes>"
      ]
     },
     "metadata": {
      "needs_background": "light"
     },
     "output_type": "display_data"
    },
    {
     "data": {
      "image/png": "[encoded data removed]",
      "text/plain": [
       "<Figure size 864x432 with 1 Axes>"
      ]
     },
     "metadata": {
      "needs_background": "light"
     },
     "output_type": "display_data"
    }
   ],
   "source": [
    "from sklearn.preprocessing import scale\n",
    "residual_norm = scale(residual)\n",
    "sm.qqplot(residual_norm, line='45')\n",
    "plt.figure(figsize=(12,6))\n",
    "plt.hist(x=residual_norm, bins='auto', rwidth=0.85)\n",
    "plt.title('Histogram for standardized residuals')\n",
    "plt.xlabel('Standardized residuals')\n",
    "plt.ylabel('Frequency')"
   ]
  },
  {
   "cell_type": "markdown",
   "metadata": {},
   "source": [
    "#### Check significance of predictors"
   ]
  },
  {
   "cell_type": "code",
   "execution_count": 7,
   "metadata": {},
   "outputs": [
    {
     "name": "stdout",
     "output_type": "stream",
     "text": [
      "price Test:\n",
      "Ttest_indResult(statistic=0.0, pvalue=1.0)\n",
      "\n",
      "area Test:\n",
      "Ttest_indResult(statistic=26.228254887672637, pvalue=1.1312753832563398e-117)\n",
      "\n",
      "bedrooms Test:\n",
      "Ttest_indResult(statistic=39.554745584927986, pvalue=4.051328156277004e-212)\n",
      "\n",
      "bathrooms Test:\n",
      "Ttest_indResult(statistic=39.56104598689239, pvalue=3.6594749836403576e-212)\n",
      "\n",
      "stories Test:\n",
      "Ttest_indResult(statistic=39.55908210332464, pvalue=3.7773694461208557e-212)\n",
      "\n",
      "parking Test:\n",
      "Ttest_indResult(statistic=39.56328690387416, pvalue=3.5294392318978497e-212)\n",
      "\n",
      "guestroom_yes Test:\n",
      "Ttest_indResult(statistic=39.56520226357173, pvalue=3.4219648116359064e-212)\n",
      "\n",
      "mainroad_yes Test:\n",
      "Ttest_indResult(statistic=39.56264193129849, pvalue=3.5663845659017736e-212)\n",
      "\n",
      "basement_yes Test:\n",
      "Ttest_indResult(statistic=39.56454999232993, pvalue=3.4581922918143715e-212)\n",
      "\n",
      "hotwaterheating_yes Test:\n",
      "Ttest_indResult(statistic=39.565688017761595, pvalue=3.3952326181288783e-212)\n",
      "\n",
      "airconditioning_yes Test:\n",
      "Ttest_indResult(statistic=39.56468877082995, pvalue=3.4504524702643117e-212)\n",
      "\n"
     ]
    }
   ],
   "source": [
    "# MSE to find predictors that are significant\n",
    "import scipy.stats as st\n",
    "from scipy.stats import ttest_ind\n",
    "for x in df1:\n",
    "    print(x + \" Test:\")\n",
    "    y = ttest_ind(df1['price'], df1[x])\n",
    "    print(y)\n",
    "    print(\"\")"
   ]
  },
  {
   "cell_type": "markdown",
   "metadata": {},
   "source": [
    "#### CLEAN UP: Find outliers and remove them"
   ]
  },
  {
   "cell_type": "code",
   "execution_count": 8,
   "metadata": {
    "scrolled": true
   },
   "outputs": [
    {
     "data": {
      "text/html": [
       "<div>\n",
       "<style scoped>\n",
       "    .dataframe tbody tr th:only-of-type {\n",
       "        vertical-align: middle;\n",
       "    }\n",
       "\n",
       "    .dataframe tbody tr th {\n",
       "        vertical-align: top;\n",
       "    }\n",
       "\n",
       "    .dataframe thead th {\n",
       "        text-align: right;\n",
       "    }\n",
       "</style>\n",
       "<table border=\"1\" class=\"dataframe\">\n",
       "  <thead>\n",
       "    <tr style=\"text-align: right;\">\n",
       "      <th></th>\n",
       "      <th>price</th>\n",
       "      <th>area</th>\n",
       "      <th>bedrooms</th>\n",
       "      <th>bathrooms</th>\n",
       "      <th>stories</th>\n",
       "      <th>parking</th>\n",
       "      <th>guestroom_yes</th>\n",
       "      <th>mainroad_yes</th>\n",
       "      <th>basement_yes</th>\n",
       "      <th>hotwaterheating_yes</th>\n",
       "      <th>airconditioning_yes</th>\n",
       "    </tr>\n",
       "  </thead>\n",
       "  <tbody>\n",
       "    <tr>\n",
       "      <th>count</th>\n",
       "      <td>540.000000</td>\n",
       "      <td>540.000000</td>\n",
       "      <td>540.000000</td>\n",
       "      <td>540.000000</td>\n",
       "      <td>540.000000</td>\n",
       "      <td>540.000000</td>\n",
       "      <td>540.000000</td>\n",
       "      <td>540.000000</td>\n",
       "      <td>540.000000</td>\n",
       "      <td>540.000000</td>\n",
       "      <td>540.000000</td>\n",
       "    </tr>\n",
       "    <tr>\n",
       "      <th>mean</th>\n",
       "      <td>10559.781821</td>\n",
       "      <td>3513.214918</td>\n",
       "      <td>2.964815</td>\n",
       "      <td>1.283333</td>\n",
       "      <td>1.807407</td>\n",
       "      <td>0.685185</td>\n",
       "      <td>0.174074</td>\n",
       "      <td>0.857407</td>\n",
       "      <td>0.348148</td>\n",
       "      <td>0.044444</td>\n",
       "      <td>0.311111</td>\n",
       "    </tr>\n",
       "    <tr>\n",
       "      <th>std</th>\n",
       "      <td>6201.993044</td>\n",
       "      <td>715.846747</td>\n",
       "      <td>0.741472</td>\n",
       "      <td>0.501667</td>\n",
       "      <td>0.870001</td>\n",
       "      <td>0.859824</td>\n",
       "      <td>0.379525</td>\n",
       "      <td>0.349981</td>\n",
       "      <td>0.476825</td>\n",
       "      <td>0.206271</td>\n",
       "      <td>0.463377</td>\n",
       "    </tr>\n",
       "    <tr>\n",
       "      <th>min</th>\n",
       "      <td>2531.205871</td>\n",
       "      <td>2031.009601</td>\n",
       "      <td>1.000000</td>\n",
       "      <td>1.000000</td>\n",
       "      <td>1.000000</td>\n",
       "      <td>0.000000</td>\n",
       "      <td>0.000000</td>\n",
       "      <td>0.000000</td>\n",
       "      <td>0.000000</td>\n",
       "      <td>0.000000</td>\n",
       "      <td>0.000000</td>\n",
       "    </tr>\n",
       "    <tr>\n",
       "      <th>25%</th>\n",
       "      <td>6016.201246</td>\n",
       "      <td>2991.862894</td>\n",
       "      <td>2.000000</td>\n",
       "      <td>1.000000</td>\n",
       "      <td>1.000000</td>\n",
       "      <td>0.000000</td>\n",
       "      <td>0.000000</td>\n",
       "      <td>1.000000</td>\n",
       "      <td>0.000000</td>\n",
       "      <td>0.000000</td>\n",
       "      <td>0.000000</td>\n",
       "    </tr>\n",
       "    <tr>\n",
       "      <th>50%</th>\n",
       "      <td>8714.563290</td>\n",
       "      <td>3368.967933</td>\n",
       "      <td>3.000000</td>\n",
       "      <td>1.000000</td>\n",
       "      <td>2.000000</td>\n",
       "      <td>0.000000</td>\n",
       "      <td>0.000000</td>\n",
       "      <td>1.000000</td>\n",
       "      <td>0.000000</td>\n",
       "      <td>0.000000</td>\n",
       "      <td>0.000000</td>\n",
       "    </tr>\n",
       "    <tr>\n",
       "      <th>75%</th>\n",
       "      <td>13716.144488</td>\n",
       "      <td>3987.480407</td>\n",
       "      <td>3.000000</td>\n",
       "      <td>2.000000</td>\n",
       "      <td>2.000000</td>\n",
       "      <td>1.000000</td>\n",
       "      <td>0.000000</td>\n",
       "      <td>1.000000</td>\n",
       "      <td>1.000000</td>\n",
       "      <td>0.000000</td>\n",
       "      <td>1.000000</td>\n",
       "    </tr>\n",
       "    <tr>\n",
       "      <th>max</th>\n",
       "      <td>46173.573550</td>\n",
       "      <td>6363.961031</td>\n",
       "      <td>6.000000</td>\n",
       "      <td>4.000000</td>\n",
       "      <td>4.000000</td>\n",
       "      <td>3.000000</td>\n",
       "      <td>1.000000</td>\n",
       "      <td>1.000000</td>\n",
       "      <td>1.000000</td>\n",
       "      <td>1.000000</td>\n",
       "      <td>1.000000</td>\n",
       "    </tr>\n",
       "  </tbody>\n",
       "</table>\n",
       "</div>"
      ],
      "text/plain": [
       "              price         area    bedrooms   bathrooms     stories  \\\n",
       "count    540.000000   540.000000  540.000000  540.000000  540.000000   \n",
       "mean   10559.781821  3513.214918    2.964815    1.283333    1.807407   \n",
       "std     6201.993044   715.846747    0.741472    0.501667    0.870001   \n",
       "min     2531.205871  2031.009601    1.000000    1.000000    1.000000   \n",
       "25%     6016.201246  2991.862894    2.000000    1.000000    1.000000   \n",
       "50%     8714.563290  3368.967933    3.000000    1.000000    2.000000   \n",
       "75%    13716.144488  3987.480407    3.000000    2.000000    2.000000   \n",
       "max    46173.573550  6363.961031    6.000000    4.000000    4.000000   \n",
       "\n",
       "          parking  guestroom_yes  mainroad_yes  basement_yes  \\\n",
       "count  540.000000     540.000000    540.000000    540.000000   \n",
       "mean     0.685185       0.174074      0.857407      0.348148   \n",
       "std      0.859824       0.379525      0.349981      0.476825   \n",
       "min      0.000000       0.000000      0.000000      0.000000   \n",
       "25%      0.000000       0.000000      1.000000      0.000000   \n",
       "50%      0.000000       0.000000      1.000000      0.000000   \n",
       "75%      1.000000       0.000000      1.000000      1.000000   \n",
       "max      3.000000       1.000000      1.000000      1.000000   \n",
       "\n",
       "       hotwaterheating_yes  airconditioning_yes  \n",
       "count           540.000000           540.000000  \n",
       "mean              0.044444             0.311111  \n",
       "std               0.206271             0.463377  \n",
       "min               0.000000             0.000000  \n",
       "25%               0.000000             0.000000  \n",
       "50%               0.000000             0.000000  \n",
       "75%               0.000000             1.000000  \n",
       "max               1.000000             1.000000  "
      ]
     },
     "execution_count": 8,
     "metadata": {},
     "output_type": "execute_result"
    }
   ],
   "source": [
    "df1.describe()"
   ]
  },
  {
   "cell_type": "code",
   "execution_count": 9,
   "metadata": {},
   "outputs": [
    {
     "name": "stderr",
     "output_type": "stream",
     "text": [
      "/Users/brianoktavec/opt/anaconda3/lib/python3.8/site-packages/seaborn/_decorators.py:36: FutureWarning: Pass the following variable as a keyword arg: x. From version 0.12, the only valid positional argument will be `data`, and passing other arguments without an explicit keyword will result in an error or misinterpretation.\n",
      "  warnings.warn(\n"
     ]
    },
    {
     "data": {
      "text/plain": [
       "<AxesSubplot:xlabel='price'>"
      ]
     },
     "execution_count": 9,
     "metadata": {},
     "output_type": "execute_result"
    },
    {
     "data": {
      "image/png": "[encoded data removed]",
      "text/plain": [
       "<Figure size 432x288 with 1 Axes>"
      ]
     },
     "metadata": {
      "needs_background": "light"
     },
     "output_type": "display_data"
    }
   ],
   "source": [
    "import seaborn as sns\n",
    "sns.boxplot(df1['price'])"
   ]
  },
  {
   "cell_type": "code",
   "execution_count": 10,
   "metadata": {},
   "outputs": [
    {
     "name": "stdout",
     "output_type": "stream",
     "text": [
      "(array([  0,   1,   2,   6,   7,   8,  10,  17,  25,  30,  32,  38,  44,\n",
      "        51,  52,  53,  61,  64,  77,  84,  91, 120, 124, 157, 181, 186,\n",
      "       206, 215, 224, 242, 396, 447]),)\n"
     ]
    }
   ],
   "source": [
    "price_drop = np.where(df1['price']>22000)\n",
    "print(price_drop)"
   ]
  },
  {
   "cell_type": "code",
   "execution_count": 11,
   "metadata": {},
   "outputs": [],
   "source": [
    "# Clean up price\n",
    "for i in price_drop:\n",
    "    df2 = df1.drop(i)"
   ]
  },
  {
   "cell_type": "code",
   "execution_count": 12,
   "metadata": {},
   "outputs": [
    {
     "name": "stderr",
     "output_type": "stream",
     "text": [
      "/Users/brianoktavec/opt/anaconda3/lib/python3.8/site-packages/seaborn/_decorators.py:36: FutureWarning: Pass the following variable as a keyword arg: x. From version 0.12, the only valid positional argument will be `data`, and passing other arguments without an explicit keyword will result in an error or misinterpretation.\n",
      "  warnings.warn(\n"
     ]
    },
    {
     "data": {
      "text/plain": [
       "<AxesSubplot:xlabel='price'>"
      ]
     },
     "execution_count": 12,
     "metadata": {},
     "output_type": "execute_result"
    },
    {
     "data": {
      "image/png": "[encoded data removed]",
      "text/plain": [
       "<Figure size 432x288 with 1 Axes>"
      ]
     },
     "metadata": {
      "needs_background": "light"
     },
     "output_type": "display_data"
    }
   ],
   "source": [
    "sns.boxplot(df2['price'])"
   ]
  },
  {
   "cell_type": "code",
   "execution_count": 13,
   "metadata": {},
   "outputs": [
    {
     "name": "stderr",
     "output_type": "stream",
     "text": [
      "/Users/brianoktavec/opt/anaconda3/lib/python3.8/site-packages/seaborn/_decorators.py:36: FutureWarning: Pass the following variable as a keyword arg: x. From version 0.12, the only valid positional argument will be `data`, and passing other arguments without an explicit keyword will result in an error or misinterpretation.\n",
      "  warnings.warn(\n"
     ]
    },
    {
     "data": {
      "text/plain": [
       "<AxesSubplot:xlabel='area'>"
      ]
     },
     "execution_count": 13,
     "metadata": {},
     "output_type": "execute_result"
    },
    {
     "data": {
      "image/png": "[encoded data removed]",
      "text/plain": [
       "<Figure size 432x288 with 1 Axes>"
      ]
     },
     "metadata": {
      "needs_background": "light"
     },
     "output_type": "display_data"
    }
   ],
   "source": [
    "sns.boxplot(df2['area'])"
   ]
  },
  {
   "cell_type": "code",
   "execution_count": 14,
   "metadata": {
    "scrolled": true
   },
   "outputs": [
    {
     "name": "stdout",
     "output_type": "stream",
     "text": [
      "(array([ 43, 114, 118, 367]),)\n"
     ]
    }
   ],
   "source": [
    "area_drop = np.where(df2['area']>5100)\n",
    "print(area_drop)"
   ]
  },
  {
   "cell_type": "code",
   "execution_count": 15,
   "metadata": {},
   "outputs": [],
   "source": [
    "# Clean up area\n",
    "\n",
    "for i in area_drop:\n",
    "    df3 = df2.drop(i)"
   ]
  },
  {
   "cell_type": "code",
   "execution_count": 16,
   "metadata": {},
   "outputs": [
    {
     "name": "stdout",
     "output_type": "stream",
     "text": [
      "                            OLS Regression Results                            \n",
      "==============================================================================\n",
      "Dep. Variable:                  price   R-squared:                       0.879\n",
      "Model:                            OLS   Adj. R-squared:                  0.877\n",
      "Method:                 Least Squares   F-statistic:                     361.7\n",
      "Date:                Sun, 12 Mar 2023   Prob (F-statistic):          8.08e-221\n",
      "Time:                        23:11:37   Log-Likelihood:                -4461.1\n",
      "No. Observations:                 508   AIC:                             8944.\n",
      "Df Residuals:                     497   BIC:                             8991.\n",
      "Df Model:                          10                                         \n",
      "Covariance Type:            nonrobust                                         \n",
      "=======================================================================================\n",
      "                          coef    std err          t      P>|t|      [0.025      0.975]\n",
      "---------------------------------------------------------------------------------------\n",
      "const               -1.559e+04    500.165    -31.168      0.000   -1.66e+04   -1.46e+04\n",
      "area                    5.7035      0.129     44.117      0.000       5.449       5.958\n",
      "bedrooms              193.7729    111.385      1.740      0.083     -25.071     412.617\n",
      "bathrooms            1515.7516    168.493      8.996      0.000    1184.705    1846.798\n",
      "stories              1432.0556    103.168     13.881      0.000    1229.357    1634.754\n",
      "parking               636.5348     92.181      6.905      0.000     455.422     817.647\n",
      "guestroom_yes          -7.9900    207.825     -0.038      0.969    -416.313     400.333\n",
      "mainroad_yes         -323.4659    212.360     -1.523      0.128    -740.700      93.769\n",
      "basement_yes         1460.9531    168.190      8.686      0.000    1130.503    1791.403\n",
      "hotwaterheating_yes   345.1450    347.542      0.993      0.321    -337.688    1027.978\n",
      "airconditioning_yes  -223.0984    169.486     -1.316      0.189    -556.096     109.899\n",
      "==============================================================================\n",
      "Omnibus:                       20.625   Durbin-Watson:                   2.016\n",
      "Prob(Omnibus):                  0.000   Jarque-Bera (JB):               30.889\n",
      "Skew:                           0.327   Prob(JB):                     1.96e-07\n",
      "Kurtosis:                       4.016   Cond. No.                     2.50e+04\n",
      "==============================================================================\n",
      "\n",
      "Notes:\n",
      "[1] Standard Errors assume that the covariance matrix of the errors is correctly specified.\n",
      "[2] The condition number is large, 2.5e+04. This might indicate that there are\n",
      "strong multicollinearity or other numerical problems.\n"
     ]
    }
   ],
   "source": [
    "ols = sm.OLS(df2.price, sm.add_constant(df2.iloc[:, 1:11]))\n",
    "lm2 = ols.fit()\n",
    "print(lm2.summary())"
   ]
  },
  {
   "cell_type": "code",
   "execution_count": 17,
   "metadata": {},
   "outputs": [
    {
     "data": {
      "text/plain": [
       "Text(0, 0.5, 'Residuals')"
      ]
     },
     "execution_count": 17,
     "metadata": {},
     "output_type": "execute_result"
    },
    {
     "data": {
      "image/png": "[encoded data removed]",
      "text/plain": [
       "<Figure size 864x432 with 1 Axes>"
      ]
     },
     "metadata": {
      "needs_background": "light"
     },
     "output_type": "display_data"
    }
   ],
   "source": [
    "fitted_y = lm2.fittedvalues\n",
    "residual = lm2.resid\n",
    "plt.figure(figsize=(12,6))\n",
    "plt.scatter(fitted_y,residual)\n",
    "plt.title('Residuals v.s. Fitted')\n",
    "plt.xlabel('Fitted values')\n",
    "plt.ylabel('Residuals')"
   ]
  },
  {
   "cell_type": "code",
   "execution_count": 18,
   "metadata": {},
   "outputs": [
    {
     "data": {
      "text/plain": [
       "Text(0, 0.5, 'Frequency')"
      ]
     },
     "execution_count": 18,
     "metadata": {},
     "output_type": "execute_result"
    },
    {
     "data": {
      "image/png": "[encoded data removed]",
      "text/plain": [
       "<Figure size 432x288 with 1 Axes>"
      ]
     },
     "metadata": {
      "needs_background": "light"
     },
     "output_type": "display_data"
    },
    {
     "data": {
      "image/png": "[encoded data removed]",
      "text/plain": [
       "<Figure size 864x432 with 1 Axes>"
      ]
     },
     "metadata": {
      "needs_background": "light"
     },
     "output_type": "display_data"
    }
   ],
   "source": [
    "from sklearn.preprocessing import scale\n",
    "residual_norm = scale(residual)\n",
    "sm.qqplot(residual_norm, line='45')\n",
    "plt.figure(figsize=(12,6))\n",
    "plt.hist(x=residual_norm, bins='auto', rwidth=0.85)\n",
    "plt.title('Histogram for standardized residuals')\n",
    "plt.xlabel('Standardized residuals')\n",
    "plt.ylabel('Frequency')"
   ]
  },
  {
   "cell_type": "code",
   "execution_count": 19,
   "metadata": {},
   "outputs": [
    {
     "data": {
      "text/html": [
       "<div>\n",
       "<style scoped>\n",
       "    .dataframe tbody tr th:only-of-type {\n",
       "        vertical-align: middle;\n",
       "    }\n",
       "\n",
       "    .dataframe tbody tr th {\n",
       "        vertical-align: top;\n",
       "    }\n",
       "\n",
       "    .dataframe thead th {\n",
       "        text-align: right;\n",
       "    }\n",
       "</style>\n",
       "<table border=\"1\" class=\"dataframe\">\n",
       "  <thead>\n",
       "    <tr style=\"text-align: right;\">\n",
       "      <th></th>\n",
       "      <th>price</th>\n",
       "      <th>area</th>\n",
       "      <th>bedrooms</th>\n",
       "      <th>bathrooms</th>\n",
       "      <th>stories</th>\n",
       "      <th>parking</th>\n",
       "      <th>guestroom_yes</th>\n",
       "      <th>mainroad_yes</th>\n",
       "      <th>basement_yes</th>\n",
       "      <th>hotwaterheating_yes</th>\n",
       "      <th>airconditioning_yes</th>\n",
       "    </tr>\n",
       "  </thead>\n",
       "  <tbody>\n",
       "    <tr>\n",
       "      <th>count</th>\n",
       "      <td>508.000000</td>\n",
       "      <td>508.000000</td>\n",
       "      <td>508.000000</td>\n",
       "      <td>508.000000</td>\n",
       "      <td>508.000000</td>\n",
       "      <td>508.000000</td>\n",
       "      <td>508.000000</td>\n",
       "      <td>508.000000</td>\n",
       "      <td>508.000000</td>\n",
       "      <td>508.000000</td>\n",
       "      <td>508.000000</td>\n",
       "    </tr>\n",
       "    <tr>\n",
       "      <th>mean</th>\n",
       "      <td>9519.388039</td>\n",
       "      <td>3425.473632</td>\n",
       "      <td>2.931102</td>\n",
       "      <td>1.255906</td>\n",
       "      <td>1.759843</td>\n",
       "      <td>0.629921</td>\n",
       "      <td>0.171260</td>\n",
       "      <td>0.848425</td>\n",
       "      <td>0.346457</td>\n",
       "      <td>0.045276</td>\n",
       "      <td>0.301181</td>\n",
       "    </tr>\n",
       "    <tr>\n",
       "      <th>std</th>\n",
       "      <td>4539.332591</td>\n",
       "      <td>626.170290</td>\n",
       "      <td>0.730551</td>\n",
       "      <td>0.467340</td>\n",
       "      <td>0.826939</td>\n",
       "      <td>0.828993</td>\n",
       "      <td>0.377107</td>\n",
       "      <td>0.358962</td>\n",
       "      <td>0.476310</td>\n",
       "      <td>0.208113</td>\n",
       "      <td>0.459223</td>\n",
       "    </tr>\n",
       "    <tr>\n",
       "      <th>min</th>\n",
       "      <td>2531.205871</td>\n",
       "      <td>2031.009601</td>\n",
       "      <td>1.000000</td>\n",
       "      <td>1.000000</td>\n",
       "      <td>1.000000</td>\n",
       "      <td>0.000000</td>\n",
       "      <td>0.000000</td>\n",
       "      <td>0.000000</td>\n",
       "      <td>0.000000</td>\n",
       "      <td>0.000000</td>\n",
       "      <td>0.000000</td>\n",
       "    </tr>\n",
       "    <tr>\n",
       "      <th>25%</th>\n",
       "      <td>5927.441516</td>\n",
       "      <td>2962.895521</td>\n",
       "      <td>2.000000</td>\n",
       "      <td>1.000000</td>\n",
       "      <td>1.000000</td>\n",
       "      <td>0.000000</td>\n",
       "      <td>0.000000</td>\n",
       "      <td>1.000000</td>\n",
       "      <td>0.000000</td>\n",
       "      <td>0.000000</td>\n",
       "      <td>0.000000</td>\n",
       "    </tr>\n",
       "    <tr>\n",
       "      <th>50%</th>\n",
       "      <td>8218.727653</td>\n",
       "      <td>3337.246754</td>\n",
       "      <td>3.000000</td>\n",
       "      <td>1.000000</td>\n",
       "      <td>2.000000</td>\n",
       "      <td>0.000000</td>\n",
       "      <td>0.000000</td>\n",
       "      <td>1.000000</td>\n",
       "      <td>0.000000</td>\n",
       "      <td>0.000000</td>\n",
       "      <td>0.000000</td>\n",
       "    </tr>\n",
       "    <tr>\n",
       "      <th>75%</th>\n",
       "      <td>12407.493525</td>\n",
       "      <td>3872.983346</td>\n",
       "      <td>3.000000</td>\n",
       "      <td>1.000000</td>\n",
       "      <td>2.000000</td>\n",
       "      <td>1.000000</td>\n",
       "      <td>0.000000</td>\n",
       "      <td>1.000000</td>\n",
       "      <td>1.000000</td>\n",
       "      <td>0.000000</td>\n",
       "      <td>1.000000</td>\n",
       "    </tr>\n",
       "    <tr>\n",
       "      <th>max</th>\n",
       "      <td>21965.800940</td>\n",
       "      <td>5688.585061</td>\n",
       "      <td>6.000000</td>\n",
       "      <td>3.000000</td>\n",
       "      <td>4.000000</td>\n",
       "      <td>3.000000</td>\n",
       "      <td>1.000000</td>\n",
       "      <td>1.000000</td>\n",
       "      <td>1.000000</td>\n",
       "      <td>1.000000</td>\n",
       "      <td>1.000000</td>\n",
       "    </tr>\n",
       "  </tbody>\n",
       "</table>\n",
       "</div>"
      ],
      "text/plain": [
       "              price         area    bedrooms   bathrooms     stories  \\\n",
       "count    508.000000   508.000000  508.000000  508.000000  508.000000   \n",
       "mean    9519.388039  3425.473632    2.931102    1.255906    1.759843   \n",
       "std     4539.332591   626.170290    0.730551    0.467340    0.826939   \n",
       "min     2531.205871  2031.009601    1.000000    1.000000    1.000000   \n",
       "25%     5927.441516  2962.895521    2.000000    1.000000    1.000000   \n",
       "50%     8218.727653  3337.246754    3.000000    1.000000    2.000000   \n",
       "75%    12407.493525  3872.983346    3.000000    1.000000    2.000000   \n",
       "max    21965.800940  5688.585061    6.000000    3.000000    4.000000   \n",
       "\n",
       "          parking  guestroom_yes  mainroad_yes  basement_yes  \\\n",
       "count  508.000000     508.000000    508.000000    508.000000   \n",
       "mean     0.629921       0.171260      0.848425      0.346457   \n",
       "std      0.828993       0.377107      0.358962      0.476310   \n",
       "min      0.000000       0.000000      0.000000      0.000000   \n",
       "25%      0.000000       0.000000      1.000000      0.000000   \n",
       "50%      0.000000       0.000000      1.000000      0.000000   \n",
       "75%      1.000000       0.000000      1.000000      1.000000   \n",
       "max      3.000000       1.000000      1.000000      1.000000   \n",
       "\n",
       "       hotwaterheating_yes  airconditioning_yes  \n",
       "count           508.000000           508.000000  \n",
       "mean              0.045276             0.301181  \n",
       "std               0.208113             0.459223  \n",
       "min               0.000000             0.000000  \n",
       "25%               0.000000             0.000000  \n",
       "50%               0.000000             0.000000  \n",
       "75%               0.000000             1.000000  \n",
       "max               1.000000             1.000000  "
      ]
     },
     "execution_count": 19,
     "metadata": {},
     "output_type": "execute_result"
    }
   ],
   "source": [
    "df2.describe()"
   ]
  },
  {
   "cell_type": "code",
   "execution_count": 20,
   "metadata": {},
   "outputs": [
    {
     "name": "stderr",
     "output_type": "stream",
     "text": [
      "/Users/brianoktavec/opt/anaconda3/lib/python3.8/site-packages/seaborn/_decorators.py:36: FutureWarning: Pass the following variable as a keyword arg: x. From version 0.12, the only valid positional argument will be `data`, and passing other arguments without an explicit keyword will result in an error or misinterpretation.\n",
      "  warnings.warn(\n"
     ]
    },
    {
     "data": {
      "text/plain": [
       "<AxesSubplot:xlabel='bedrooms'>"
      ]
     },
     "execution_count": 20,
     "metadata": {},
     "output_type": "execute_result"
    },
    {
     "data": {
      "image/png": "[encoded data removed]",
      "text/plain": [
       "<Figure size 432x288 with 1 Axes>"
      ]
     },
     "metadata": {
      "needs_background": "light"
     },
     "output_type": "display_data"
    }
   ],
   "source": [
    "sns.boxplot(df2['bedrooms'])"
   ]
  },
  {
   "cell_type": "code",
   "execution_count": 21,
   "metadata": {},
   "outputs": [],
   "source": [
    "room_drop = np.where(df3['bedrooms']>4)"
   ]
  },
  {
   "cell_type": "code",
   "execution_count": 22,
   "metadata": {},
   "outputs": [],
   "source": [
    "# Clean up bedrooms\n",
    "\n",
    "for i in room_drop:\n",
    "    df4 = df3.drop(i)"
   ]
  },
  {
   "cell_type": "code",
   "execution_count": 23,
   "metadata": {},
   "outputs": [
    {
     "name": "stderr",
     "output_type": "stream",
     "text": [
      "/Users/brianoktavec/opt/anaconda3/lib/python3.8/site-packages/seaborn/_decorators.py:36: FutureWarning: Pass the following variable as a keyword arg: x. From version 0.12, the only valid positional argument will be `data`, and passing other arguments without an explicit keyword will result in an error or misinterpretation.\n",
      "  warnings.warn(\n"
     ]
    },
    {
     "data": {
      "text/plain": [
       "<AxesSubplot:xlabel='stories'>"
      ]
     },
     "execution_count": 23,
     "metadata": {},
     "output_type": "execute_result"
    },
    {
     "data": {
      "image/png": "[encoded data removed]",
      "text/plain": [
       "<Figure size 432x288 with 1 Axes>"
      ]
     },
     "metadata": {
      "needs_background": "light"
     },
     "output_type": "display_data"
    }
   ],
   "source": [
    "sns.boxplot(df4['stories'])"
   ]
  },
  {
   "cell_type": "code",
   "execution_count": 24,
   "metadata": {},
   "outputs": [],
   "source": [
    "stories_drop = np.where(df4['stories']>3)\n",
    "store = [3, 11, 21, 23, 24, 27, 28, 29, 31, 35, 45, 46, 47, 56, 63, 65, 72, 75, 95, 99, 104, 109, 185]"
   ]
  },
  {
   "cell_type": "code",
   "execution_count": 25,
   "metadata": {},
   "outputs": [],
   "source": [
    "# Clean up stories\n",
    "\n",
    "for i in store:\n",
    "    df5 = df4.drop(i)"
   ]
  },
  {
   "cell_type": "code",
   "execution_count": 26,
   "metadata": {},
   "outputs": [
    {
     "name": "stdout",
     "output_type": "stream",
     "text": [
      "                            OLS Regression Results                            \n",
      "==============================================================================\n",
      "Dep. Variable:                  price   R-squared:                       0.880\n",
      "Model:                            OLS   Adj. R-squared:                  0.878\n",
      "Method:                 Least Squares   F-statistic:                     353.7\n",
      "Date:                Sun, 12 Mar 2023   Prob (F-statistic):          9.35e-215\n",
      "Time:                        23:11:38   Log-Likelihood:                -4323.1\n",
      "No. Observations:                 493   AIC:                             8668.\n",
      "Df Residuals:                     482   BIC:                             8714.\n",
      "Df Model:                          10                                         \n",
      "Covariance Type:            nonrobust                                         \n",
      "=======================================================================================\n",
      "                          coef    std err          t      P>|t|      [0.025      0.975]\n",
      "---------------------------------------------------------------------------------------\n",
      "const               -1.533e+04    500.688    -30.620      0.000   -1.63e+04   -1.43e+04\n",
      "area                    5.6660      0.129     43.883      0.000       5.412       5.920\n",
      "bedrooms              144.0266    111.677      1.290      0.198     -75.406     363.460\n",
      "bathrooms            1529.0171    168.800      9.058      0.000    1197.342    1860.693\n",
      "stories              1435.7383    102.858     13.958      0.000    1233.632    1637.844\n",
      "parking               578.0492     93.578      6.177      0.000     394.179     761.920\n",
      "guestroom_yes          51.6891    209.122      0.247      0.805    -359.213     462.592\n",
      "mainroad_yes         -335.6578    211.682     -1.586      0.113    -751.591      80.276\n",
      "basement_yes         1391.8682    170.261      8.175      0.000    1057.323    1726.413\n",
      "hotwaterheating_yes   417.5580    343.827      1.214      0.225    -258.027    1093.143\n",
      "airconditioning_yes  -188.4491    170.338     -1.106      0.269    -523.147     146.249\n",
      "==============================================================================\n",
      "Omnibus:                       25.118   Durbin-Watson:                   2.038\n",
      "Prob(Omnibus):                  0.000   Jarque-Bera (JB):               41.377\n",
      "Skew:                           0.364   Prob(JB):                     1.04e-09\n",
      "Kurtosis:                       4.218   Cond. No.                     2.49e+04\n",
      "==============================================================================\n",
      "\n",
      "Notes:\n",
      "[1] Standard Errors assume that the covariance matrix of the errors is correctly specified.\n",
      "[2] The condition number is large, 2.49e+04. This might indicate that there are\n",
      "strong multicollinearity or other numerical problems.\n"
     ]
    }
   ],
   "source": [
    "ols = sm.OLS(df5.price, sm.add_constant(df5.iloc[:, 1:11]))\n",
    "lm3 = ols.fit()\n",
    "print(lm3.summary())"
   ]
  },
  {
   "cell_type": "code",
   "execution_count": 27,
   "metadata": {},
   "outputs": [
    {
     "data": {
      "text/plain": [
       "Text(0, 0.5, 'Frequency')"
      ]
     },
     "execution_count": 27,
     "metadata": {},
     "output_type": "execute_result"
    },
    {
     "data": {
      "image/png": "[encoded data removed]",
      "text/plain": [
       "<Figure size 432x288 with 1 Axes>"
      ]
     },
     "metadata": {
      "needs_background": "light"
     },
     "output_type": "display_data"
    },
    {
     "data": {
      "image/png": "[encoded data removed]",
      "text/plain": [
       "<Figure size 864x432 with 1 Axes>"
      ]
     },
     "metadata": {
      "needs_background": "light"
     },
     "output_type": "display_data"
    }
   ],
   "source": [
    "fitted_y = lm3.fittedvalues\n",
    "residual = lm3.resid\n",
    "\n",
    "from sklearn.preprocessing import scale\n",
    "residual_norm = scale(residual)\n",
    "sm.qqplot(residual_norm, line='45')\n",
    "plt.figure(figsize=(12,6))\n",
    "plt.hist(x=residual_norm, bins='auto', rwidth=0.85)\n",
    "plt.title('Histogram for standardized residuals')\n",
    "plt.xlabel('Standardized residuals')\n",
    "plt.ylabel('Frequency')"
   ]
  },
  {
   "cell_type": "code",
   "execution_count": 28,
   "metadata": {},
   "outputs": [
    {
     "data": {
      "text/html": [
       "<div>\n",
       "<style scoped>\n",
       "    .dataframe tbody tr th:only-of-type {\n",
       "        vertical-align: middle;\n",
       "    }\n",
       "\n",
       "    .dataframe tbody tr th {\n",
       "        vertical-align: top;\n",
       "    }\n",
       "\n",
       "    .dataframe thead th {\n",
       "        text-align: right;\n",
       "    }\n",
       "</style>\n",
       "<table border=\"1\" class=\"dataframe\">\n",
       "  <thead>\n",
       "    <tr style=\"text-align: right;\">\n",
       "      <th></th>\n",
       "      <th>price</th>\n",
       "      <th>area</th>\n",
       "      <th>bedrooms</th>\n",
       "      <th>bathrooms</th>\n",
       "      <th>stories</th>\n",
       "      <th>parking</th>\n",
       "      <th>guestroom_yes</th>\n",
       "      <th>mainroad_yes</th>\n",
       "      <th>basement_yes</th>\n",
       "      <th>hotwaterheating_yes</th>\n",
       "      <th>airconditioning_yes</th>\n",
       "    </tr>\n",
       "  </thead>\n",
       "  <tbody>\n",
       "    <tr>\n",
       "      <th>count</th>\n",
       "      <td>493.000000</td>\n",
       "      <td>493.000000</td>\n",
       "      <td>493.000000</td>\n",
       "      <td>493.000000</td>\n",
       "      <td>493.000000</td>\n",
       "      <td>493.000000</td>\n",
       "      <td>493.000000</td>\n",
       "      <td>493.000000</td>\n",
       "      <td>493.000000</td>\n",
       "      <td>493.000000</td>\n",
       "      <td>493.000000</td>\n",
       "    </tr>\n",
       "    <tr>\n",
       "      <th>mean</th>\n",
       "      <td>9435.306863</td>\n",
       "      <td>3419.353043</td>\n",
       "      <td>2.916836</td>\n",
       "      <td>1.255578</td>\n",
       "      <td>1.762677</td>\n",
       "      <td>0.616633</td>\n",
       "      <td>0.172414</td>\n",
       "      <td>0.845842</td>\n",
       "      <td>0.342799</td>\n",
       "      <td>0.046653</td>\n",
       "      <td>0.300203</td>\n",
       "    </tr>\n",
       "    <tr>\n",
       "      <th>std</th>\n",
       "      <td>4498.018954</td>\n",
       "      <td>627.739865</td>\n",
       "      <td>0.731951</td>\n",
       "      <td>0.468081</td>\n",
       "      <td>0.835242</td>\n",
       "      <td>0.817173</td>\n",
       "      <td>0.378123</td>\n",
       "      <td>0.361467</td>\n",
       "      <td>0.475127</td>\n",
       "      <td>0.211109</td>\n",
       "      <td>0.458812</td>\n",
       "    </tr>\n",
       "    <tr>\n",
       "      <th>min</th>\n",
       "      <td>2531.205871</td>\n",
       "      <td>2031.009601</td>\n",
       "      <td>1.000000</td>\n",
       "      <td>1.000000</td>\n",
       "      <td>1.000000</td>\n",
       "      <td>0.000000</td>\n",
       "      <td>0.000000</td>\n",
       "      <td>0.000000</td>\n",
       "      <td>0.000000</td>\n",
       "      <td>0.000000</td>\n",
       "      <td>0.000000</td>\n",
       "    </tr>\n",
       "    <tr>\n",
       "      <th>25%</th>\n",
       "      <td>5902.226791</td>\n",
       "      <td>2962.262649</td>\n",
       "      <td>2.000000</td>\n",
       "      <td>1.000000</td>\n",
       "      <td>1.000000</td>\n",
       "      <td>0.000000</td>\n",
       "      <td>0.000000</td>\n",
       "      <td>1.000000</td>\n",
       "      <td>0.000000</td>\n",
       "      <td>0.000000</td>\n",
       "      <td>0.000000</td>\n",
       "    </tr>\n",
       "    <tr>\n",
       "      <th>50%</th>\n",
       "      <td>8088.885271</td>\n",
       "      <td>3316.624790</td>\n",
       "      <td>3.000000</td>\n",
       "      <td>1.000000</td>\n",
       "      <td>2.000000</td>\n",
       "      <td>0.000000</td>\n",
       "      <td>0.000000</td>\n",
       "      <td>1.000000</td>\n",
       "      <td>0.000000</td>\n",
       "      <td>0.000000</td>\n",
       "      <td>0.000000</td>\n",
       "    </tr>\n",
       "    <tr>\n",
       "      <th>75%</th>\n",
       "      <td>12296.013630</td>\n",
       "      <td>3872.983346</td>\n",
       "      <td>3.000000</td>\n",
       "      <td>1.000000</td>\n",
       "      <td>2.000000</td>\n",
       "      <td>1.000000</td>\n",
       "      <td>0.000000</td>\n",
       "      <td>1.000000</td>\n",
       "      <td>1.000000</td>\n",
       "      <td>0.000000</td>\n",
       "      <td>1.000000</td>\n",
       "    </tr>\n",
       "    <tr>\n",
       "      <th>max</th>\n",
       "      <td>21965.800940</td>\n",
       "      <td>5688.585061</td>\n",
       "      <td>6.000000</td>\n",
       "      <td>3.000000</td>\n",
       "      <td>4.000000</td>\n",
       "      <td>3.000000</td>\n",
       "      <td>1.000000</td>\n",
       "      <td>1.000000</td>\n",
       "      <td>1.000000</td>\n",
       "      <td>1.000000</td>\n",
       "      <td>1.000000</td>\n",
       "    </tr>\n",
       "  </tbody>\n",
       "</table>\n",
       "</div>"
      ],
      "text/plain": [
       "              price         area    bedrooms   bathrooms     stories  \\\n",
       "count    493.000000   493.000000  493.000000  493.000000  493.000000   \n",
       "mean    9435.306863  3419.353043    2.916836    1.255578    1.762677   \n",
       "std     4498.018954   627.739865    0.731951    0.468081    0.835242   \n",
       "min     2531.205871  2031.009601    1.000000    1.000000    1.000000   \n",
       "25%     5902.226791  2962.262649    2.000000    1.000000    1.000000   \n",
       "50%     8088.885271  3316.624790    3.000000    1.000000    2.000000   \n",
       "75%    12296.013630  3872.983346    3.000000    1.000000    2.000000   \n",
       "max    21965.800940  5688.585061    6.000000    3.000000    4.000000   \n",
       "\n",
       "          parking  guestroom_yes  mainroad_yes  basement_yes  \\\n",
       "count  493.000000     493.000000    493.000000    493.000000   \n",
       "mean     0.616633       0.172414      0.845842      0.342799   \n",
       "std      0.817173       0.378123      0.361467      0.475127   \n",
       "min      0.000000       0.000000      0.000000      0.000000   \n",
       "25%      0.000000       0.000000      1.000000      0.000000   \n",
       "50%      0.000000       0.000000      1.000000      0.000000   \n",
       "75%      1.000000       0.000000      1.000000      1.000000   \n",
       "max      3.000000       1.000000      1.000000      1.000000   \n",
       "\n",
       "       hotwaterheating_yes  airconditioning_yes  \n",
       "count           493.000000           493.000000  \n",
       "mean              0.046653             0.300203  \n",
       "std               0.211109             0.458812  \n",
       "min               0.000000             0.000000  \n",
       "25%               0.000000             0.000000  \n",
       "50%               0.000000             0.000000  \n",
       "75%               0.000000             1.000000  \n",
       "max               1.000000             1.000000  "
      ]
     },
     "execution_count": 28,
     "metadata": {},
     "output_type": "execute_result"
    }
   ],
   "source": [
    "df5.describe()"
   ]
  },
  {
   "cell_type": "code",
   "execution_count": 29,
   "metadata": {},
   "outputs": [
    {
     "name": "stderr",
     "output_type": "stream",
     "text": [
      "/Users/brianoktavec/opt/anaconda3/lib/python3.8/site-packages/seaborn/_decorators.py:36: FutureWarning: Pass the following variable as a keyword arg: x. From version 0.12, the only valid positional argument will be `data`, and passing other arguments without an explicit keyword will result in an error or misinterpretation.\n",
      "  warnings.warn(\n"
     ]
    },
    {
     "data": {
      "text/plain": [
       "<AxesSubplot:xlabel='bathrooms'>"
      ]
     },
     "execution_count": 29,
     "metadata": {},
     "output_type": "execute_result"
    },
    {
     "data": {
      "image/png": "[encoded data removed]",
      "text/plain": [
       "<Figure size 432x288 with 1 Axes>"
      ]
     },
     "metadata": {
      "needs_background": "light"
     },
     "output_type": "display_data"
    }
   ],
   "source": [
    "sns.boxplot(df5['bathrooms'])"
   ]
  },
  {
   "cell_type": "code",
   "execution_count": 30,
   "metadata": {},
   "outputs": [],
   "source": [
    "bathroom = np.where(df5['bathrooms']>2)\n",
    "bath = [4,117,155,245,448]\n"
   ]
  },
  {
   "cell_type": "code",
   "execution_count": 31,
   "metadata": {},
   "outputs": [],
   "source": [
    "# Clean up bathrooms\n",
    "\n",
    "for i in bath:\n",
    "    df6 = df5.drop(i)"
   ]
  },
  {
   "cell_type": "code",
   "execution_count": 32,
   "metadata": {},
   "outputs": [
    {
     "name": "stderr",
     "output_type": "stream",
     "text": [
      "/Users/brianoktavec/opt/anaconda3/lib/python3.8/site-packages/seaborn/_decorators.py:36: FutureWarning: Pass the following variable as a keyword arg: x. From version 0.12, the only valid positional argument will be `data`, and passing other arguments without an explicit keyword will result in an error or misinterpretation.\n",
      "  warnings.warn(\n"
     ]
    },
    {
     "data": {
      "text/plain": [
       "<AxesSubplot:xlabel='parking'>"
      ]
     },
     "execution_count": 32,
     "metadata": {},
     "output_type": "execute_result"
    },
    {
     "data": {
      "image/png": "[encoded data removed]",
      "text/plain": [
       "<Figure size 432x288 with 1 Axes>"
      ]
     },
     "metadata": {
      "needs_background": "light"
     },
     "output_type": "display_data"
    }
   ],
   "source": [
    "sns.boxplot(df6['parking'])"
   ]
  },
  {
   "cell_type": "code",
   "execution_count": 33,
   "metadata": {},
   "outputs": [],
   "source": [
    "parking = np.where(df6['parking']>2)\n",
    "park = [28, 183,254,259,284,420]"
   ]
  },
  {
   "cell_type": "code",
   "execution_count": 34,
   "metadata": {},
   "outputs": [],
   "source": [
    "# Clean up parking\n",
    "\n",
    "for i in park:\n",
    "    df7 = df6.drop(i)"
   ]
  },
  {
   "cell_type": "code",
   "execution_count": 35,
   "metadata": {},
   "outputs": [
    {
     "name": "stdout",
     "output_type": "stream",
     "text": [
      "                            OLS Regression Results                            \n",
      "==============================================================================\n",
      "Dep. Variable:                  price   R-squared:                       0.880\n",
      "Model:                            OLS   Adj. R-squared:                  0.877\n",
      "Method:                 Least Squares   F-statistic:                     350.9\n",
      "Date:                Sun, 12 Mar 2023   Prob (F-statistic):          1.66e-213\n",
      "Time:                        23:11:39   Log-Likelihood:                -4306.4\n",
      "No. Observations:                 491   AIC:                             8635.\n",
      "Df Residuals:                     480   BIC:                             8681.\n",
      "Df Model:                          10                                         \n",
      "Covariance Type:            nonrobust                                         \n",
      "=======================================================================================\n",
      "                          coef    std err          t      P>|t|      [0.025      0.975]\n",
      "---------------------------------------------------------------------------------------\n",
      "const               -1.535e+04    504.210    -30.444      0.000   -1.63e+04   -1.44e+04\n",
      "area                    5.6697      0.130     43.699      0.000       5.415       5.925\n",
      "bedrooms              147.1934    112.115      1.313      0.190     -73.104     367.491\n",
      "bathrooms            1530.1163    169.132      9.047      0.000    1197.785    1862.448\n",
      "stories              1435.2657    103.091     13.922      0.000    1232.700    1637.831\n",
      "parking               573.6049     94.238      6.087      0.000     388.435     758.774\n",
      "guestroom_yes          55.3364    209.654      0.264      0.792    -356.616     467.289\n",
      "mainroad_yes         -337.6671    212.215     -1.591      0.112    -754.652      79.318\n",
      "basement_yes         1386.0501    171.156      8.098      0.000    1049.742    1722.359\n",
      "hotwaterheating_yes   420.0467    344.516      1.219      0.223    -256.899    1096.992\n",
      "airconditioning_yes  -186.6507    170.696     -1.093      0.275    -522.054     148.752\n",
      "==============================================================================\n",
      "Omnibus:                       24.839   Durbin-Watson:                   2.041\n",
      "Prob(Omnibus):                  0.000   Jarque-Bera (JB):               40.533\n",
      "Skew:                           0.365   Prob(JB):                     1.58e-09\n",
      "Kurtosis:                       4.204   Cond. No.                     2.50e+04\n",
      "==============================================================================\n",
      "\n",
      "Notes:\n",
      "[1] Standard Errors assume that the covariance matrix of the errors is correctly specified.\n",
      "[2] The condition number is large, 2.5e+04. This might indicate that there are\n",
      "strong multicollinearity or other numerical problems.\n"
     ]
    }
   ],
   "source": [
    "# recheck model update to see improvement\n",
    "ols = sm.OLS(df7.price, sm.add_constant(df7.iloc[:, 1:11]))\n",
    "lm4 = ols.fit()\n",
    "print(lm4.summary())"
   ]
  },
  {
   "cell_type": "code",
   "execution_count": 36,
   "metadata": {},
   "outputs": [
    {
     "data": {
      "text/plain": [
       "Text(0, 0.5, 'Frequency')"
      ]
     },
     "execution_count": 36,
     "metadata": {},
     "output_type": "execute_result"
    },
    {
     "data": {
      "image/png": "[encoded data removed]",
      "text/plain": [
       "<Figure size 432x288 with 1 Axes>"
      ]
     },
     "metadata": {
      "needs_background": "light"
     },
     "output_type": "display_data"
    },
    {
     "data": {
      "image/png": "[encoded data removed]",
      "text/plain": [
       "<Figure size 864x432 with 1 Axes>"
      ]
     },
     "metadata": {
      "needs_background": "light"
     },
     "output_type": "display_data"
    }
   ],
   "source": [
    "fitted_y = lm4.fittedvalues\n",
    "residual = lm4.resid\n",
    "\n",
    "from sklearn.preprocessing import scale\n",
    "residual_norm = scale(residual)\n",
    "sm.qqplot(residual_norm, line='45')\n",
    "plt.figure(figsize=(12,6))\n",
    "plt.hist(x=residual_norm, bins='auto', rwidth=0.85)\n",
    "plt.title('Histogram for standardized residuals')\n",
    "plt.xlabel('Standardized residuals')\n",
    "plt.ylabel('Frequency')"
   ]
  },
  {
   "cell_type": "code",
   "execution_count": 37,
   "metadata": {},
   "outputs": [
    {
     "name": "stdout",
     "output_type": "stream",
     "text": [
      "ShapiroResult(statistic=0.9860858917236328, pvalue=0.0001223138824570924)\n",
      "KstestResult(statistic=0.5130560750569698, pvalue=1.715643937024529e-120)\n"
     ]
    }
   ],
   "source": [
    "from scipy import stats\n",
    "from scipy.stats import kstest\n",
    "print(stats.shapiro(residual))\n",
    "print(kstest(residual, 'norm'))"
   ]
  },
  {
   "cell_type": "markdown",
   "metadata": {},
   "source": [
    "#### Correction done on Y"
   ]
  },
  {
   "cell_type": "code",
   "execution_count": 38,
   "metadata": {},
   "outputs": [
    {
     "data": {
      "text/html": [
       "<div>\n",
       "<style scoped>\n",
       "    .dataframe tbody tr th:only-of-type {\n",
       "        vertical-align: middle;\n",
       "    }\n",
       "\n",
       "    .dataframe tbody tr th {\n",
       "        vertical-align: top;\n",
       "    }\n",
       "\n",
       "    .dataframe thead th {\n",
       "        text-align: right;\n",
       "    }\n",
       "</style>\n",
       "<table border=\"1\" class=\"dataframe\">\n",
       "  <thead>\n",
       "    <tr style=\"text-align: right;\">\n",
       "      <th></th>\n",
       "      <th>price</th>\n",
       "      <th>area</th>\n",
       "      <th>bedrooms</th>\n",
       "      <th>bathrooms</th>\n",
       "      <th>stories</th>\n",
       "      <th>parking</th>\n",
       "      <th>guestroom_yes</th>\n",
       "      <th>mainroad_yes</th>\n",
       "      <th>basement_yes</th>\n",
       "      <th>hotwaterheating_yes</th>\n",
       "      <th>airconditioning_yes</th>\n",
       "    </tr>\n",
       "  </thead>\n",
       "  <tbody>\n",
       "    <tr>\n",
       "      <th>3</th>\n",
       "      <td>9.849127</td>\n",
       "      <td>4330.127019</td>\n",
       "      <td>4</td>\n",
       "      <td>2</td>\n",
       "      <td>2</td>\n",
       "      <td>3</td>\n",
       "      <td>0</td>\n",
       "      <td>1</td>\n",
       "      <td>1</td>\n",
       "      <td>0</td>\n",
       "      <td>1</td>\n",
       "    </tr>\n",
       "    <tr>\n",
       "      <th>4</th>\n",
       "      <td>9.774687</td>\n",
       "      <td>4306.971093</td>\n",
       "      <td>4</td>\n",
       "      <td>1</td>\n",
       "      <td>2</td>\n",
       "      <td>2</td>\n",
       "      <td>1</td>\n",
       "      <td>1</td>\n",
       "      <td>1</td>\n",
       "      <td>0</td>\n",
       "      <td>1</td>\n",
       "    </tr>\n",
       "    <tr>\n",
       "      <th>5</th>\n",
       "      <td>9.673279</td>\n",
       "      <td>4330.127019</td>\n",
       "      <td>3</td>\n",
       "      <td>3</td>\n",
       "      <td>1</td>\n",
       "      <td>2</td>\n",
       "      <td>0</td>\n",
       "      <td>1</td>\n",
       "      <td>1</td>\n",
       "      <td>0</td>\n",
       "      <td>1</td>\n",
       "    </tr>\n",
       "    <tr>\n",
       "      <th>9</th>\n",
       "      <td>9.691847</td>\n",
       "      <td>3791.437722</td>\n",
       "      <td>3</td>\n",
       "      <td>2</td>\n",
       "      <td>4</td>\n",
       "      <td>1</td>\n",
       "      <td>1</td>\n",
       "      <td>1</td>\n",
       "      <td>0</td>\n",
       "      <td>0</td>\n",
       "      <td>1</td>\n",
       "    </tr>\n",
       "    <tr>\n",
       "      <th>11</th>\n",
       "      <td>9.962949</td>\n",
       "      <td>3872.983346</td>\n",
       "      <td>4</td>\n",
       "      <td>3</td>\n",
       "      <td>2</td>\n",
       "      <td>2</td>\n",
       "      <td>1</td>\n",
       "      <td>1</td>\n",
       "      <td>1</td>\n",
       "      <td>1</td>\n",
       "      <td>0</td>\n",
       "    </tr>\n",
       "  </tbody>\n",
       "</table>\n",
       "</div>"
      ],
      "text/plain": [
       "       price         area  bedrooms  bathrooms  stories  parking  \\\n",
       "3   9.849127  4330.127019         4          2        2        3   \n",
       "4   9.774687  4306.971093         4          1        2        2   \n",
       "5   9.673279  4330.127019         3          3        1        2   \n",
       "9   9.691847  3791.437722         3          2        4        1   \n",
       "11  9.962949  3872.983346         4          3        2        2   \n",
       "\n",
       "    guestroom_yes  mainroad_yes  basement_yes  hotwaterheating_yes  \\\n",
       "3               0             1             1                    0   \n",
       "4               1             1             1                    0   \n",
       "5               0             1             1                    0   \n",
       "9               1             1             0                    0   \n",
       "11              1             1             1                    1   \n",
       "\n",
       "    airconditioning_yes  \n",
       "3                     1  \n",
       "4                     1  \n",
       "5                     1  \n",
       "9                     1  \n",
       "11                    0  "
      ]
     },
     "execution_count": 38,
     "metadata": {},
     "output_type": "execute_result"
    }
   ],
   "source": [
    "# Create log of Y \n",
    "price = np.log(df7.iloc[:,0:1])\n",
    "\n",
    "data = pd.concat([price, df7.iloc[:,1:]], axis=1)\n",
    "data.head()"
   ]
  },
  {
   "cell_type": "code",
   "execution_count": 39,
   "metadata": {},
   "outputs": [
    {
     "name": "stdout",
     "output_type": "stream",
     "text": [
      "                            OLS Regression Results                            \n",
      "==============================================================================\n",
      "Dep. Variable:                  price   R-squared:                       0.895\n",
      "Model:                            OLS   Adj. R-squared:                  0.893\n",
      "Method:                 Least Squares   F-statistic:                     408.6\n",
      "Date:                Sun, 12 Mar 2023   Prob (F-statistic):          1.50e-227\n",
      "Time:                        23:11:39   Log-Likelihood:                 219.60\n",
      "No. Observations:                 491   AIC:                            -417.2\n",
      "Df Residuals:                     480   BIC:                            -371.0\n",
      "Df Model:                          10                                         \n",
      "Covariance Type:            nonrobust                                         \n",
      "=======================================================================================\n",
      "                          coef    std err          t      P>|t|      [0.025      0.975]\n",
      "---------------------------------------------------------------------------------------\n",
      "const                   6.3511      0.050    126.925      0.000       6.253       6.449\n",
      "area                    0.0006   1.29e-05     47.142      0.000       0.001       0.001\n",
      "bedrooms                0.0342      0.011      3.072      0.002       0.012       0.056\n",
      "bathrooms               0.1426      0.017      8.495      0.000       0.110       0.176\n",
      "stories                 0.1381      0.010     13.503      0.000       0.118       0.158\n",
      "parking                 0.0522      0.009      5.587      0.000       0.034       0.071\n",
      "guestroom_yes           0.0141      0.021      0.678      0.498      -0.027       0.055\n",
      "mainroad_yes            0.0068      0.021      0.323      0.747      -0.035       0.048\n",
      "basement_yes            0.1485      0.017      8.741      0.000       0.115       0.182\n",
      "hotwaterheating_yes     0.0497      0.034      1.454      0.147      -0.017       0.117\n",
      "airconditioning_yes    -0.0086      0.017     -0.510      0.611      -0.042       0.025\n",
      "==============================================================================\n",
      "Omnibus:                        5.010   Durbin-Watson:                   1.979\n",
      "Prob(Omnibus):                  0.082   Jarque-Bera (JB):                5.418\n",
      "Skew:                          -0.147   Prob(JB):                       0.0666\n",
      "Kurtosis:                       3.422   Cond. No.                     2.50e+04\n",
      "==============================================================================\n",
      "\n",
      "Notes:\n",
      "[1] Standard Errors assume that the covariance matrix of the errors is correctly specified.\n",
      "[2] The condition number is large, 2.5e+04. This might indicate that there are\n",
      "strong multicollinearity or other numerical problems.\n"
     ]
    }
   ],
   "source": [
    "ols = sm.OLS(data['price'], sm.add_constant(data.iloc[:, 1:11]))\n",
    "lm5 = ols.fit()\n",
    "print(lm5.summary())"
   ]
  },
  {
   "cell_type": "code",
   "execution_count": 40,
   "metadata": {},
   "outputs": [
    {
     "data": {
      "text/plain": [
       "Text(0, 0.5, 'Frequency')"
      ]
     },
     "execution_count": 40,
     "metadata": {},
     "output_type": "execute_result"
    },
    {
     "data": {
      "image/png": "[encoded data removed]",
      "text/plain": [
       "<Figure size 432x288 with 1 Axes>"
      ]
     },
     "metadata": {
      "needs_background": "light"
     },
     "output_type": "display_data"
    },
    {
     "data": {
      "image/png": "[encoded data removed]",
      "text/plain": [
       "<Figure size 864x432 with 1 Axes>"
      ]
     },
     "metadata": {
      "needs_background": "light"
     },
     "output_type": "display_data"
    }
   ],
   "source": [
    "# Check fitness and correction \n",
    "fitted_y = lm5.fittedvalues\n",
    "residual = lm5.resid\n",
    "\n",
    "from sklearn.preprocessing import scale\n",
    "residual_norm = scale(residual)\n",
    "sm.qqplot(residual_norm, line='45')\n",
    "plt.figure(figsize=(12,6))\n",
    "plt.hist(x=residual_norm, bins='auto', rwidth=0.85)\n",
    "plt.title('Histogram for standardized residuals')\n",
    "plt.xlabel('Standardized residuals')\n",
    "plt.ylabel('Frequency')"
   ]
  },
  {
   "cell_type": "code",
   "execution_count": 41,
   "metadata": {},
   "outputs": [
    {
     "name": "stdout",
     "output_type": "stream",
     "text": [
      "ShapiroResult(statistic=0.9952735900878906, pvalue=0.14131273329257965)\n",
      "KstestResult(statistic=0.3630962824438271, pvalue=1.6508094202168328e-58)\n"
     ]
    }
   ],
   "source": [
    "print(stats.shapiro(residual))\n",
    "print(kstest(residual, 'norm'))"
   ]
  },
  {
   "cell_type": "code",
   "execution_count": 42,
   "metadata": {},
   "outputs": [
    {
     "name": "stdout",
     "output_type": "stream",
     "text": [
      "-0.005527869855171534\n"
     ]
    }
   ],
   "source": [
    "# See if this test improves it at all \n",
    "import scipy.stats as stats\n",
    "Z, fit_lambda = stats.boxcox(df6.price)\n",
    "print(fit_lambda)"
   ]
  },
  {
   "cell_type": "code",
   "execution_count": 43,
   "metadata": {},
   "outputs": [
    {
     "name": "stdout",
     "output_type": "stream",
     "text": [
      "                            OLS Regression Results                            \n",
      "==============================================================================\n",
      "Dep. Variable:                      y   R-squared:                       0.894\n",
      "Model:                            OLS   Adj. R-squared:                  0.892\n",
      "Method:                 Least Squares   F-statistic:                     407.7\n",
      "Date:                Sun, 12 Mar 2023   Prob (F-statistic):          1.23e-227\n",
      "Time:                        23:11:40   Log-Likelihood:                 244.11\n",
      "No. Observations:                 492   AIC:                            -466.2\n",
      "Df Residuals:                     481   BIC:                            -420.0\n",
      "Df Model:                          10                                         \n",
      "Covariance Type:            nonrobust                                         \n",
      "=======================================================================================\n",
      "                          coef    std err          t      P>|t|      [0.025      0.975]\n",
      "---------------------------------------------------------------------------------------\n",
      "const                   6.2631      0.048    131.779      0.000       6.170       6.356\n",
      "area                    0.0006   1.22e-05     47.100      0.000       0.001       0.001\n",
      "bedrooms                0.0320      0.011      3.026      0.003       0.011       0.053\n",
      "bathrooms               0.1353      0.016      8.465      0.000       0.104       0.167\n",
      "stories                 0.1314      0.010     13.492      0.000       0.112       0.151\n",
      "parking                 0.0505      0.009      5.698      0.000       0.033       0.068\n",
      "guestroom_yes           0.0127      0.020      0.641      0.522      -0.026       0.052\n",
      "mainroad_yes            0.0070      0.020      0.351      0.726      -0.032       0.046\n",
      "basement_yes            0.1425      0.016      8.833      0.000       0.111       0.174\n",
      "hotwaterheating_yes     0.0468      0.033      1.439      0.151      -0.017       0.111\n",
      "airconditioning_yes    -0.0085      0.016     -0.528      0.598      -0.040       0.023\n",
      "==============================================================================\n",
      "Omnibus:                        5.204   Durbin-Watson:                   1.975\n",
      "Prob(Omnibus):                  0.074   Jarque-Bera (JB):                5.613\n",
      "Skew:                          -0.155   Prob(JB):                       0.0604\n",
      "Kurtosis:                       3.422   Cond. No.                     2.49e+04\n",
      "==============================================================================\n",
      "\n",
      "Notes:\n",
      "[1] Standard Errors assume that the covariance matrix of the errors is correctly specified.\n",
      "[2] The condition number is large, 2.49e+04. This might indicate that there are\n",
      "strong multicollinearity or other numerical problems.\n"
     ]
    }
   ],
   "source": [
    "ols = sm.OLS(Z, sm.add_constant(df6.iloc[:, 1:11]))\n",
    "lm6 = ols.fit()\n",
    "print(lm6.summary())"
   ]
  },
  {
   "cell_type": "markdown",
   "metadata": {},
   "source": [
    "# Best Model"
   ]
  },
  {
   "cell_type": "code",
   "execution_count": 44,
   "metadata": {},
   "outputs": [
    {
     "name": "stdout",
     "output_type": "stream",
     "text": [
      "                            OLS Regression Results                            \n",
      "==============================================================================\n",
      "Dep. Variable:                  price   R-squared:                       0.895\n",
      "Model:                            OLS   Adj. R-squared:                  0.893\n",
      "Method:                 Least Squares   F-statistic:                     408.6\n",
      "Date:                Sun, 12 Mar 2023   Prob (F-statistic):          1.50e-227\n",
      "Time:                        23:11:40   Log-Likelihood:                 219.60\n",
      "No. Observations:                 491   AIC:                            -417.2\n",
      "Df Residuals:                     480   BIC:                            -371.0\n",
      "Df Model:                          10                                         \n",
      "Covariance Type:            nonrobust                                         \n",
      "=======================================================================================\n",
      "                          coef    std err          t      P>|t|      [0.025      0.975]\n",
      "---------------------------------------------------------------------------------------\n",
      "const                   6.3511      0.050    126.925      0.000       6.253       6.449\n",
      "area                    0.0006   1.29e-05     47.142      0.000       0.001       0.001\n",
      "bedrooms                0.0342      0.011      3.072      0.002       0.012       0.056\n",
      "bathrooms               0.1426      0.017      8.495      0.000       0.110       0.176\n",
      "stories                 0.1381      0.010     13.503      0.000       0.118       0.158\n",
      "parking                 0.0522      0.009      5.587      0.000       0.034       0.071\n",
      "guestroom_yes           0.0141      0.021      0.678      0.498      -0.027       0.055\n",
      "mainroad_yes            0.0068      0.021      0.323      0.747      -0.035       0.048\n",
      "basement_yes            0.1485      0.017      8.741      0.000       0.115       0.182\n",
      "hotwaterheating_yes     0.0497      0.034      1.454      0.147      -0.017       0.117\n",
      "airconditioning_yes    -0.0086      0.017     -0.510      0.611      -0.042       0.025\n",
      "==============================================================================\n",
      "Omnibus:                        5.010   Durbin-Watson:                   1.979\n",
      "Prob(Omnibus):                  0.082   Jarque-Bera (JB):                5.418\n",
      "Skew:                          -0.147   Prob(JB):                       0.0666\n",
      "Kurtosis:                       3.422   Cond. No.                     2.50e+04\n",
      "==============================================================================\n",
      "\n",
      "Notes:\n",
      "[1] Standard Errors assume that the covariance matrix of the errors is correctly specified.\n",
      "[2] The condition number is large, 2.5e+04. This might indicate that there are\n",
      "strong multicollinearity or other numerical problems.\n"
     ]
    }
   ],
   "source": [
    "print(lm5.summary())"
   ]
  },
  {
   "cell_type": "code",
   "execution_count": 45,
   "metadata": {},
   "outputs": [
    {
     "data": {
      "text/html": [
       "<div>\n",
       "<style scoped>\n",
       "    .dataframe tbody tr th:only-of-type {\n",
       "        vertical-align: middle;\n",
       "    }\n",
       "\n",
       "    .dataframe tbody tr th {\n",
       "        vertical-align: top;\n",
       "    }\n",
       "\n",
       "    .dataframe thead th {\n",
       "        text-align: right;\n",
       "    }\n",
       "</style>\n",
       "<table border=\"1\" class=\"dataframe\">\n",
       "  <thead>\n",
       "    <tr style=\"text-align: right;\">\n",
       "      <th></th>\n",
       "      <th>area</th>\n",
       "      <th>bedrooms</th>\n",
       "      <th>bathrooms</th>\n",
       "      <th>stories</th>\n",
       "      <th>mainroad</th>\n",
       "      <th>guestroom</th>\n",
       "      <th>basement</th>\n",
       "      <th>hotwaterheating</th>\n",
       "      <th>airconditioning</th>\n",
       "      <th>parking</th>\n",
       "      <th>price</th>\n",
       "    </tr>\n",
       "  </thead>\n",
       "  <tbody>\n",
       "    <tr>\n",
       "      <th>0</th>\n",
       "      <td>3391.164992</td>\n",
       "      <td>3</td>\n",
       "      <td>2</td>\n",
       "      <td>2</td>\n",
       "      <td>yes</td>\n",
       "      <td>yes</td>\n",
       "      <td>no</td>\n",
       "      <td>no</td>\n",
       "      <td>yes</td>\n",
       "      <td>2</td>\n",
       "      <td>13648.38942</td>\n",
       "    </tr>\n",
       "    <tr>\n",
       "      <th>1</th>\n",
       "      <td>4006.245125</td>\n",
       "      <td>4</td>\n",
       "      <td>2</td>\n",
       "      <td>2</td>\n",
       "      <td>yes</td>\n",
       "      <td>no</td>\n",
       "      <td>no</td>\n",
       "      <td>no</td>\n",
       "      <td>yes</td>\n",
       "      <td>1</td>\n",
       "      <td>17305.14429</td>\n",
       "    </tr>\n",
       "    <tr>\n",
       "      <th>2</th>\n",
       "      <td>3286.335345</td>\n",
       "      <td>3</td>\n",
       "      <td>1</td>\n",
       "      <td>2</td>\n",
       "      <td>yes</td>\n",
       "      <td>no</td>\n",
       "      <td>yes</td>\n",
       "      <td>yes</td>\n",
       "      <td>no</td>\n",
       "      <td>2</td>\n",
       "      <td>10205.51922</td>\n",
       "    </tr>\n",
       "    <tr>\n",
       "      <th>3</th>\n",
       "      <td>4229.361654</td>\n",
       "      <td>3</td>\n",
       "      <td>2</td>\n",
       "      <td>1</td>\n",
       "      <td>yes</td>\n",
       "      <td>yes</td>\n",
       "      <td>yes</td>\n",
       "      <td>no</td>\n",
       "      <td>yes</td>\n",
       "      <td>2</td>\n",
       "      <td>17321.41596</td>\n",
       "    </tr>\n",
       "    <tr>\n",
       "      <th>4</th>\n",
       "      <td>4486.089611</td>\n",
       "      <td>3</td>\n",
       "      <td>1</td>\n",
       "      <td>1</td>\n",
       "      <td>yes</td>\n",
       "      <td>yes</td>\n",
       "      <td>yes</td>\n",
       "      <td>no</td>\n",
       "      <td>yes</td>\n",
       "      <td>1</td>\n",
       "      <td>15862.92477</td>\n",
       "    </tr>\n",
       "  </tbody>\n",
       "</table>\n",
       "</div>"
      ],
      "text/plain": [
       "          area  bedrooms  bathrooms  stories mainroad guestroom basement  \\\n",
       "0  3391.164992         3          2        2      yes       yes       no   \n",
       "1  4006.245125         4          2        2      yes        no       no   \n",
       "2  3286.335345         3          1        2      yes        no      yes   \n",
       "3  4229.361654         3          2        1      yes       yes      yes   \n",
       "4  4486.089611         3          1        1      yes       yes      yes   \n",
       "\n",
       "  hotwaterheating airconditioning  parking        price  \n",
       "0              no             yes        2  13648.38942  \n",
       "1              no             yes        1  17305.14429  \n",
       "2             yes              no        2  10205.51922  \n",
       "3              no             yes        2  17321.41596  \n",
       "4              no             yes        1  15862.92477  "
      ]
     },
     "execution_count": 45,
     "metadata": {},
     "output_type": "execute_result"
    }
   ],
   "source": [
    "df_new = pd.read_csv('/Users/brianoktavec/MSC550/Midterm/housing_test-1.csv')\n",
    "df_new"
   ]
  },
  {
   "cell_type": "code",
   "execution_count": 46,
   "metadata": {},
   "outputs": [
    {
     "data": {
      "text/html": [
       "<div>\n",
       "<style scoped>\n",
       "    .dataframe tbody tr th:only-of-type {\n",
       "        vertical-align: middle;\n",
       "    }\n",
       "\n",
       "    .dataframe tbody tr th {\n",
       "        vertical-align: top;\n",
       "    }\n",
       "\n",
       "    .dataframe thead th {\n",
       "        text-align: right;\n",
       "    }\n",
       "</style>\n",
       "<table border=\"1\" class=\"dataframe\">\n",
       "  <thead>\n",
       "    <tr style=\"text-align: right;\">\n",
       "      <th></th>\n",
       "      <th>price</th>\n",
       "      <th>area</th>\n",
       "      <th>bedrooms</th>\n",
       "      <th>bathrooms</th>\n",
       "      <th>stories</th>\n",
       "      <th>parking</th>\n",
       "      <th>mainroad_yes</th>\n",
       "      <th>guestroom_yes</th>\n",
       "      <th>basement_yes</th>\n",
       "      <th>hotwaterheating_yes</th>\n",
       "      <th>airconditioning_yes</th>\n",
       "      <th>extra</th>\n",
       "    </tr>\n",
       "  </thead>\n",
       "  <tbody>\n",
       "    <tr>\n",
       "      <th>0</th>\n",
       "      <td>13648.38942</td>\n",
       "      <td>3391.164992</td>\n",
       "      <td>3</td>\n",
       "      <td>2</td>\n",
       "      <td>2</td>\n",
       "      <td>2</td>\n",
       "      <td>1</td>\n",
       "      <td>1</td>\n",
       "      <td>0</td>\n",
       "      <td>0</td>\n",
       "      <td>1</td>\n",
       "      <td>1</td>\n",
       "    </tr>\n",
       "    <tr>\n",
       "      <th>1</th>\n",
       "      <td>17305.14429</td>\n",
       "      <td>4006.245125</td>\n",
       "      <td>4</td>\n",
       "      <td>2</td>\n",
       "      <td>2</td>\n",
       "      <td>1</td>\n",
       "      <td>1</td>\n",
       "      <td>0</td>\n",
       "      <td>0</td>\n",
       "      <td>0</td>\n",
       "      <td>1</td>\n",
       "      <td>0</td>\n",
       "    </tr>\n",
       "    <tr>\n",
       "      <th>2</th>\n",
       "      <td>10205.51922</td>\n",
       "      <td>3286.335345</td>\n",
       "      <td>3</td>\n",
       "      <td>1</td>\n",
       "      <td>2</td>\n",
       "      <td>2</td>\n",
       "      <td>1</td>\n",
       "      <td>0</td>\n",
       "      <td>1</td>\n",
       "      <td>1</td>\n",
       "      <td>0</td>\n",
       "      <td>1</td>\n",
       "    </tr>\n",
       "    <tr>\n",
       "      <th>3</th>\n",
       "      <td>17321.41596</td>\n",
       "      <td>4229.361654</td>\n",
       "      <td>3</td>\n",
       "      <td>2</td>\n",
       "      <td>1</td>\n",
       "      <td>2</td>\n",
       "      <td>1</td>\n",
       "      <td>1</td>\n",
       "      <td>1</td>\n",
       "      <td>0</td>\n",
       "      <td>1</td>\n",
       "      <td>1</td>\n",
       "    </tr>\n",
       "    <tr>\n",
       "      <th>4</th>\n",
       "      <td>15862.92477</td>\n",
       "      <td>4486.089611</td>\n",
       "      <td>3</td>\n",
       "      <td>1</td>\n",
       "      <td>1</td>\n",
       "      <td>1</td>\n",
       "      <td>1</td>\n",
       "      <td>1</td>\n",
       "      <td>1</td>\n",
       "      <td>0</td>\n",
       "      <td>1</td>\n",
       "      <td>0</td>\n",
       "    </tr>\n",
       "  </tbody>\n",
       "</table>\n",
       "</div>"
      ],
      "text/plain": [
       "         price         area  bedrooms  bathrooms  stories  parking  \\\n",
       "0  13648.38942  3391.164992         3          2        2        2   \n",
       "1  17305.14429  4006.245125         4          2        2        1   \n",
       "2  10205.51922  3286.335345         3          1        2        2   \n",
       "3  17321.41596  4229.361654         3          2        1        2   \n",
       "4  15862.92477  4486.089611         3          1        1        1   \n",
       "\n",
       "   mainroad_yes  guestroom_yes  basement_yes  hotwaterheating_yes  \\\n",
       "0             1              1             0                    0   \n",
       "1             1              0             0                    0   \n",
       "2             1              0             1                    1   \n",
       "3             1              1             1                    0   \n",
       "4             1              1             1                    0   \n",
       "\n",
       "   airconditioning_yes  extra  \n",
       "0                    1      1  \n",
       "1                    1      0  \n",
       "2                    0      1  \n",
       "3                    1      1  \n",
       "4                    1      0  "
      ]
     },
     "execution_count": 46,
     "metadata": {},
     "output_type": "execute_result"
    }
   ],
   "source": [
    "# Convert yes/no to dummy data - 1 & 0\n",
    "mainroad_yes = [1,1,1,1,1]\n",
    "df1_new = pd.get_dummies(df_new, columns=['mainroad','guestroom','basement','hotwaterheating','airconditioning'], drop_first=True)\n",
    "df1_new['mainroad_yes'] = mainroad_yes\n",
    "# extra data to make it fit the model\n",
    "extra = [1,0,1,1,0]\n",
    "df1_new['extra'] = extra\n",
    "\n",
    "\n",
    "# Rearrange the columns\n",
    "df1_new = df1_new[['price','area','bedrooms','bathrooms','stories','parking','mainroad_yes','guestroom_yes','basement_yes','hotwaterheating_yes','airconditioning_yes', 'extra']]\n",
    "\n",
    "df1_new"
   ]
  },
  {
   "cell_type": "code",
   "execution_count": 47,
   "metadata": {},
   "outputs": [
    {
     "name": "stdout",
     "output_type": "stream",
     "text": [
      "price Test:\n",
      "Ttest_indResult(statistic=0.0, pvalue=1.0)\n",
      "\n",
      "area Test:\n",
      "Ttest_indResult(statistic=8.049653586843172, pvalue=4.176480810245611e-05)\n",
      "\n",
      "bedrooms Test:\n",
      "Ttest_indResult(statistic=11.053244841420451, pvalue=4.000215967410344e-06)\n",
      "\n",
      "bathrooms Test:\n",
      "Ttest_indResult(statistic=11.054434462255367, pvalue=3.996963921029441e-06)\n",
      "\n",
      "stories Test:\n",
      "Ttest_indResult(statistic=11.054434462255367, pvalue=3.996963921029441e-06)\n",
      "\n",
      "parking Test:\n",
      "Ttest_indResult(statistic=11.054434462255367, pvalue=3.996963921029441e-06)\n",
      "\n",
      "mainroad_yes Test:\n",
      "Ttest_indResult(statistic=11.054880776341506, pvalue=3.9957446021542484e-06)\n",
      "\n",
      "guestroom_yes Test:\n",
      "Ttest_indResult(statistic=11.055178013470876, pvalue=3.99493278843244e-06)\n",
      "\n",
      "basement_yes Test:\n",
      "Ttest_indResult(statistic=11.055178013470876, pvalue=3.99493278843244e-06)\n",
      "\n",
      "hotwaterheating_yes Test:\n",
      "Ttest_indResult(statistic=11.055475495079312, pvalue=3.994120491570432e-06)\n",
      "\n",
      "airconditioning_yes Test:\n",
      "Ttest_indResult(statistic=11.055029364347542, pvalue=3.995338755708051e-06)\n",
      "\n",
      "extra Test:\n",
      "Ttest_indResult(statistic=11.055178013470876, pvalue=3.99493278843244e-06)\n",
      "\n"
     ]
    }
   ],
   "source": [
    "# Check significance of predictors. Not as significant as shown on the original model but still significant\n",
    "for x in df1_new:\n",
    "    print(x + \" Test:\")\n",
    "    y = ttest_ind(df1_new['price'], df1_new[x])\n",
    "    print(y)\n",
    "    print(\"\")"
   ]
  },
  {
   "cell_type": "code",
   "execution_count": 48,
   "metadata": {},
   "outputs": [],
   "source": [
    "# Run model on new data and get mse\n",
    "from sklearn.metrics import mean_squared_error\n",
    "\n",
    "y_pred1 = lm5.predict(sm.add_constant(df1_new.iloc[:, 1:12]))\n",
    "mse1 = mean_squared_error(y_pred1,df1_new.price)"
   ]
  },
  {
   "cell_type": "code",
   "execution_count": 49,
   "metadata": {},
   "outputs": [
    {
     "name": "stdout",
     "output_type": "stream",
     "text": [
      "MSE for Best Model is: 98562387.28046457\n"
     ]
    }
   ],
   "source": [
    "print(\"MSE for Best Model is:\", mse1)\n"
   ]
  }
 ],
 "metadata": {
  "kernelspec": {
   "display_name": "Python 3",
   "language": "python",
   "name": "python3"
  },
  "language_info": {
   "codemirror_mode": {
    "name": "ipython",
    "version": 3
   },
   "file_extension": ".py",
   "mimetype": "text/x-python",
   "name": "python",
   "nbconvert_exporter": "python",
   "pygments_lexer": "ipython3",
   "version": "3.8.5"
  }
 },
 "nbformat": 4,
 "nbformat_minor": 4
}
